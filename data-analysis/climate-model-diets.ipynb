{
 "cells": [
  {
   "cell_type": "markdown",
   "id": "3f8a37b5",
   "metadata": {},
   "source": [
    "# Climate model: Estimated CO2 emissions from food consumption\n",
    "\n",
    "\n",
    "We model the impact of diet changes on CO2 based on CO2 estimates for modeled vegan, vegetarian, and average meat eater diets from U.S. based LCA studies.\n",
    "\n",
    "We start from a baseline based on individuals' average diets, averaged over the population.\n",
    "\n",
    "To compute this baseline, we use survey data reporting on the number of days per week people eat vegan, vegetarian, vs meat diets. We match the survey data with census data to construct a representative sample of the MA population from which to draw the diet information.\n",
    "\n",
    "The output of this is:\n",
    "\n",
    "M = number of days/week average person eats meat\n",
    "\n",
    "V = number of days/week average person eats a vegetarian diet \n",
    "\n",
    "PB = number of days/week average person eats a plant-based (vegan) diet\n"
   ]
  },
  {
   "cell_type": "code",
   "execution_count": 66,
   "id": "5d126ba9",
   "metadata": {},
   "outputs": [],
   "source": [
    "import matplotlib.pyplot as plt\n",
    "import numpy as np\n",
    "import pandas as pd"
   ]
  },
  {
   "cell_type": "markdown",
   "id": "eaaf4821",
   "metadata": {},
   "source": [
    "## Codebook\n",
    "\n",
    "A map of values from the Qualtrics survey (subset to questions used in this analysis)."
   ]
  },
  {
   "cell_type": "code",
   "execution_count": 67,
   "id": "08ece570",
   "metadata": {},
   "outputs": [],
   "source": [
    "# This is a dump from the recode values exported from qualtrics Q_US_state.\n",
    "# Qualtrics put the states in alphabetical order for their recode value, did not code by FIPs\n",
    "states_recode_text = '1\\nAlabama\\n2\\nAlaska\\n3\\nArizona\\n4\\nArkansas\\n5\\nCalifornia\\n6\\nColorado\\n7\\nConnecticut\\n8\\nDelaware\\n9\\nDistrict of Columbia\\n10\\nFlorida\\n11\\nGeorgia\\n12\\nHawaii\\n13\\nIdaho\\n14\\nIllinois\\n15\\nIndiana\\n16\\nIowa\\n17\\nKansas\\n18\\nKentucky\\n19\\nLouisiana\\n20\\nMaine\\n21\\nMaryland\\n22\\nMassachusetts\\n23\\nMichigan\\n24\\nMinnesota\\n25\\nMississippi\\n26\\nMissouri\\n27\\nMontana\\n28\\nNebraska\\n29\\nNevada\\n30\\nNew Hampshire\\n31\\nNew Jersey\\n32\\nNew Mexico\\n33\\nNew York\\n34\\nNorth Carolina\\n35\\nNorth Dakota\\n36\\nOhio\\n37\\nOklahoma\\n38\\nOregon\\n39\\nPennsylvania\\n40\\nPuerto Rico\\n41\\nRhode Island\\n42\\nSouth Carolina\\n43\\nSouth Dakota\\n44\\nTennessee\\n45\\nTexas\\n46\\nUtah\\n47\\nVermont\\n48\\nVirginia\\n49\\nWashington\\n50\\nWest Virginia\\n51\\nWisconsin\\n52\\nWyoming\\n53\\nI do not reside in the United States'\n",
    "states_recode_list = states_recode_text.split('\\n')\n",
    "states_choices_map = {states_recode_list[i]: states_recode_list[i+1] for i in range(0, len(states_recode_list), 2)}\n",
    "# states_choices_map"
   ]
  },
  {
   "cell_type": "code",
   "execution_count": 68,
   "id": "c83105ab",
   "metadata": {},
   "outputs": [],
   "source": [
    "# {QID: {Q: Q text, choices: map}}\n",
    "codebook = {\n",
    "    'Q_special_diet':{\n",
    "        'Q': 'Are you on any special diet? (select all that apply)',\n",
    "        'choices': {\n",
    "            '1':'Keto','2':'Pescatarian','3':'Vegetarian',\n",
    "            '4':'Gluten free','5':'Vegan','6':'Other','7':'None'\n",
    "        },\n",
    "    },\n",
    "    # call this question Q.1\n",
    "    'Q_past_vegetarian': {\n",
    "        'Q':'In the past 7 days, on how many days did you have a meal that contained any meat, poultry, or fish?',\n",
    "        'choices': {\n",
    "            '7': 7,\n",
    "            '6': 6,\n",
    "            '5': 5,\n",
    "            '4': 4,\n",
    "            '3': 3,\n",
    "            '2': 2,\n",
    "            '1': 1,\n",
    "            '0': 0,\n",
    "        },\n",
    "    },\n",
    "    # call this question Q.2\n",
    "    'Q_past_vegan': {\n",
    "        'Q':'In the past 7 days, on how many days did you eat a meal that contained any kind of animal product? (i.e. on how many days did you eat meat, poultry, fish, dairy, eggs, etc?)',\n",
    "        'choices': {\n",
    "            '7': 7,\n",
    "            '6': 6,\n",
    "            '5': 5,\n",
    "            '4': 4,\n",
    "            '3': 3,\n",
    "            '2': 2,\n",
    "            '1': 1,\n",
    "            '0': 0,\n",
    "        },\n",
    "    },\n",
    "    'Q_good_for_env': {\n",
    "        'Q':'How strongly do you agree with the following statement?\\n\"Vegetarian and vegan dishes are good for the environment.\"',\n",
    "        'choices': {\n",
    "            '1':'Strongly agree','2':'Agree','3':'Neutral',\n",
    "            '4':'Disagree','5':'Strongly disagree'\n",
    "        },\n",
    "    },\n",
    "    'Q_politics': {\n",
    "        'Q':'Which of the following best describes your political preference?',\n",
    "        'choices': {\n",
    "            '1':'Strongly Democratic','2':'Democratic',\n",
    "            '3':'Lean Democratic','4':'Lean Republican','5':'Republican','6':'Strongly Republican'\n",
    "        }\n",
    "    },\n",
    "    'Q_demos_gender': {\n",
    "        'Q':'What is your gender?',\n",
    "        'choices': {'1':'Male','2':'Female','3':'Other', '4':'Prefer not to answer'},\n",
    "    },\n",
    "    'Q_demos_age': {\n",
    "        'Q': 'How old are you?',\n",
    "        'choices': {\n",
    "            '1':'Under 18', # should have none!\n",
    "            '2':'18 - 24 years old',\n",
    "            '3':'25 - 34 years old',\n",
    "            '4':'35 - 44 years old',\n",
    "            '5':'45 - 54 years old',\n",
    "            '6':'55 - 64 years old',\n",
    "            '7':'65+ years old'\n",
    "        },\n",
    "    },\n",
    "    'Q_demos_income': {\n",
    "        'Q': 'What was your total household income before taxes during the past 12 months?',\n",
    "        'choices': {\n",
    "            '1':'Less than \\$25,000','2':'\\$25,000 to \\$49,999',\n",
    "            '3':'\\$50,000 to $74,999','4':'\\$75,000 to \\$99,999',\n",
    "            '5':'\\$100,000 to $149,999','6':'\\$150,000 or more',\n",
    "            '7':'Prefer not to say',\n",
    "        },\n",
    "    },\n",
    "    'Q_demos_race': {\n",
    "        'Q': 'Choose one or more races that you consider yourself to be',\n",
    "        'choices': {\n",
    "            '1':'White or Caucausian',\n",
    "            '2':'Black or African American',\n",
    "            '3':'American Indian/Native American or Alaska Native',\n",
    "            '4':'Asian',\n",
    "            '5':'Native Hawaiian or Other Pacific Islander',\n",
    "            '6':'Other',\n",
    "            '7':'Prefer not to say'\n",
    "        },\n",
    "    },\n",
    "    'Q_US_state': {\n",
    "        'Q':'In which state do you currently reside?',\n",
    "        'choices': states_choices_map,\n",
    "    },\n",
    "}"
   ]
  },
  {
   "cell_type": "markdown",
   "id": "a90679bf",
   "metadata": {},
   "source": [
    "## Census data\n",
    "\n",
    "We use 2020 ACS 5-Year Estimates (Table DP05) for the MA population. \n",
    "\n",
    "We use population numbers by age group reported by the 2020 ACS 5-Year (Table DP05) for the MA population. This survey does not report gender split by age group, but does report an overall male/female gender split near 50/50 (51.5 total population is female). We assume a 50/50 gender split for each age group.\n",
    "We use stratified random sampling, with replacement, to construct a sample that represents the MA population with respect to age and gender: For each age group we randomly draw (with replacement) samples from our survey data for participants reporting gender as male until 50% of the age group population is reached (relative to the total sampled population), and then repeat this for female participants.\n",
    "\n",
    "\n",
    "#### Note the limitation:\n",
    "\n",
    "Our survey data is limited to people 18 years or older, so our representative sample represents the MA population 18 years or older.\n",
    "\n",
    "We match the ACS age group 20-24 to our survey 18-24 age group.\n"
   ]
  },
  {
   "cell_type": "markdown",
   "id": "5acba507",
   "metadata": {},
   "source": [
    "The following codes are pulled from the ACSDP5Y2020.DP05_metadata file.\n",
    "```\n",
    "DP05_0009PE\tPercent!!SEX AND AGE!!Total population!!20 to 24 years\n",
    "DP05_0010PE\tPercent!!SEX AND AGE!!Total population!!25 to 34 years\n",
    "DP05_0011PE\tPercent!!SEX AND AGE!!Total population!!35 to 44 years\n",
    "DP05_0012PE\tPercent!!SEX AND AGE!!Total population!!45 to 54 years\n",
    "DP05_0013PE\tPercent!!SEX AND AGE!!Total population!!55 to 59 years\n",
    "DP05_0014PE\tPercent!!SEX AND AGE!!Total population!!60 to 64 years\n",
    "DP05_0015PE\tPercent!!SEX AND AGE!!Total population!!65 to 74 years\n",
    "DP05_0016PE\tPercent!!SEX AND AGE!!Total population!!75 to 84 years\n",
    "DP05_0017PE\tPercent!!SEX AND AGE!!Total population!!85 years and over\n",
    "```"
   ]
  },
  {
   "cell_type": "code",
   "execution_count": 69,
   "id": "9c857539",
   "metadata": {},
   "outputs": [
    {
     "data": {
      "text/html": [
       "<div>\n",
       "<style scoped>\n",
       "    .dataframe tbody tr th:only-of-type {\n",
       "        vertical-align: middle;\n",
       "    }\n",
       "\n",
       "    .dataframe tbody tr th {\n",
       "        vertical-align: top;\n",
       "    }\n",
       "\n",
       "    .dataframe thead th {\n",
       "        text-align: right;\n",
       "    }\n",
       "</style>\n",
       "<table border=\"1\" class=\"dataframe\">\n",
       "  <thead>\n",
       "    <tr style=\"text-align: right;\">\n",
       "      <th></th>\n",
       "      <th>DP05_0009PE</th>\n",
       "      <th>DP05_0010PE</th>\n",
       "      <th>DP05_0011PE</th>\n",
       "      <th>DP05_0012PE</th>\n",
       "      <th>DP05_0013PE</th>\n",
       "      <th>DP05_0014PE</th>\n",
       "      <th>DP05_0015PE</th>\n",
       "      <th>DP05_0016PE</th>\n",
       "      <th>DP05_0017PE</th>\n",
       "    </tr>\n",
       "  </thead>\n",
       "  <tbody>\n",
       "    <tr>\n",
       "      <th>percent total population</th>\n",
       "      <td>7.1</td>\n",
       "      <td>14.3</td>\n",
       "      <td>12.2</td>\n",
       "      <td>13.3</td>\n",
       "      <td>7.1</td>\n",
       "      <td>6.5</td>\n",
       "      <td>9.5</td>\n",
       "      <td>4.6</td>\n",
       "      <td>2.4</td>\n",
       "    </tr>\n",
       "  </tbody>\n",
       "</table>\n",
       "</div>"
      ],
      "text/plain": [
       "                          DP05_0009PE  DP05_0010PE  DP05_0011PE  DP05_0012PE  \\\n",
       "percent total population          7.1         14.3         12.2         13.3   \n",
       "\n",
       "                          DP05_0013PE  DP05_0014PE  DP05_0015PE  DP05_0016PE  \\\n",
       "percent total population          7.1          6.5          9.5          4.6   \n",
       "\n",
       "                          DP05_0017PE  \n",
       "percent total population          2.4  "
      ]
     },
     "execution_count": 69,
     "metadata": {},
     "output_type": "execute_result"
    }
   ],
   "source": [
    "acs_df = pd.read_csv(\n",
    "    '../data/ACSDP5Y2020.DP05_data_with_overlays.csv',\n",
    "    usecols=[\n",
    "        'DP05_0009PE','DP05_0010PE','DP05_0011PE','DP05_0012PE','DP05_0013PE',\n",
    "        'DP05_0014PE','DP05_0015PE','DP05_0016PE','DP05_0017PE'\n",
    "    ],\n",
    ").rename({1:'percent total population'}).drop([0]).astype(float)\n",
    "acs_df"
   ]
  },
  {
   "cell_type": "code",
   "execution_count": 70,
   "id": "cc278d64",
   "metadata": {},
   "outputs": [
    {
     "name": "stdout",
     "output_type": "stream",
     "text": [
      "sums to 77.0\n"
     ]
    },
    {
     "data": {
      "text/html": [
       "<div>\n",
       "<style scoped>\n",
       "    .dataframe tbody tr th:only-of-type {\n",
       "        vertical-align: middle;\n",
       "    }\n",
       "\n",
       "    .dataframe tbody tr th {\n",
       "        vertical-align: top;\n",
       "    }\n",
       "\n",
       "    .dataframe thead th {\n",
       "        text-align: right;\n",
       "    }\n",
       "</style>\n",
       "<table border=\"1\" class=\"dataframe\">\n",
       "  <thead>\n",
       "    <tr style=\"text-align: right;\">\n",
       "      <th></th>\n",
       "      <th>percent total population</th>\n",
       "    </tr>\n",
       "  </thead>\n",
       "  <tbody>\n",
       "    <tr>\n",
       "      <th>18 - 24 years old</th>\n",
       "      <td>7.1</td>\n",
       "    </tr>\n",
       "    <tr>\n",
       "      <th>25 - 34 years old</th>\n",
       "      <td>14.3</td>\n",
       "    </tr>\n",
       "    <tr>\n",
       "      <th>35 - 44 years old</th>\n",
       "      <td>12.2</td>\n",
       "    </tr>\n",
       "    <tr>\n",
       "      <th>45 - 54 years old</th>\n",
       "      <td>13.3</td>\n",
       "    </tr>\n",
       "    <tr>\n",
       "      <th>55 - 64 years old</th>\n",
       "      <td>13.6</td>\n",
       "    </tr>\n",
       "    <tr>\n",
       "      <th>65+ years old</th>\n",
       "      <td>16.5</td>\n",
       "    </tr>\n",
       "  </tbody>\n",
       "</table>\n",
       "</div>"
      ],
      "text/plain": [
       "                   percent total population\n",
       "18 - 24 years old                       7.1\n",
       "25 - 34 years old                      14.3\n",
       "35 - 44 years old                      12.2\n",
       "45 - 54 years old                      13.3\n",
       "55 - 64 years old                      13.6\n",
       "65+ years old                          16.5"
      ]
     },
     "execution_count": 70,
     "metadata": {},
     "output_type": "execute_result"
    }
   ],
   "source": [
    "\"\"\"\n",
    "Make a dataframe with columns for age groups matching our survey data.\n",
    "Collapse ACS columns into larger groups.\n",
    "\"\"\"\n",
    "acs_df = pd.DataFrame({\n",
    "    '18 - 24 years old': acs_df['DP05_0009PE'],\n",
    "    '25 - 34 years old': acs_df['DP05_0010PE'],\n",
    "    '35 - 44 years old': acs_df['DP05_0011PE'],\n",
    "    '45 - 54 years old': acs_df['DP05_0012PE'],\n",
    "    '55 - 64 years old': acs_df['DP05_0013PE'] + acs_df['DP05_0014PE'],\n",
    "    '65+ years old':  acs_df['DP05_0015PE'] + acs_df['DP05_0016PE'] + acs_df['DP05_0017PE'],\n",
    "})\n",
    "# Note the percentages should not sum to 100 since they only represent adult population\n",
    "print('sums to %s' % sum(acs_df.transpose()['percent total population']))\n",
    "acs_df.transpose()"
   ]
  },
  {
   "cell_type": "markdown",
   "id": "dd5446d0",
   "metadata": {},
   "source": [
    "## Survey data\n",
    "\n",
    "The survey data was implemented using Qualtrics and data was collected via Prolific June - July 2022. The survey was limited to participants on the Prolific platform that said they lived in a U.S. state within New England (MA/NH/CT/RI/VT/ME) and that English is their first language when they signed up as participants. We then limit data used to participants who said they currently live within MA when completing the survey.\n",
    "\n",
    "Survey data collected\n",
    "\n",
    "Demographic:\n",
    "- Gender (male/female/other/prefer not to say; only male/female is used)\n",
    "- Age group\n",
    "- Income group (used just for data checks)\n",
    "- Current U.S. state of residence\n",
    "\n",
    "Diet questions:\n",
    "- Number of days in past week ate meat/poultry/fish (0-7)\n",
    "- Number of days in past week ate any animal product: meat/poultry/fish/dairy/eggs, etc (0-7)\n"
   ]
  },
  {
   "cell_type": "code",
   "execution_count": 71,
   "id": "5cf39d9e",
   "metadata": {},
   "outputs": [
    {
     "data": {
      "text/html": [
       "<div>\n",
       "<style scoped>\n",
       "    .dataframe tbody tr th:only-of-type {\n",
       "        vertical-align: middle;\n",
       "    }\n",
       "\n",
       "    .dataframe tbody tr th {\n",
       "        vertical-align: top;\n",
       "    }\n",
       "\n",
       "    .dataframe thead th {\n",
       "        text-align: right;\n",
       "    }\n",
       "</style>\n",
       "<table border=\"1\" class=\"dataframe\">\n",
       "  <thead>\n",
       "    <tr style=\"text-align: right;\">\n",
       "      <th></th>\n",
       "      <th>RecordedDate</th>\n",
       "      <th>ResponseId</th>\n",
       "      <th>Q_attn_1</th>\n",
       "      <th>Q_attn_2</th>\n",
       "      <th>Q_attn_check</th>\n",
       "      <th>Q_special_diet</th>\n",
       "      <th>Q_past_vegetarian</th>\n",
       "      <th>Q_past_vegan</th>\n",
       "      <th>Q_good_for_env</th>\n",
       "      <th>Q_attn_midway</th>\n",
       "      <th>Q_politics</th>\n",
       "      <th>Q_US_state</th>\n",
       "      <th>Q_demos_age</th>\n",
       "      <th>Q_demos_gender</th>\n",
       "      <th>Q_demos_income</th>\n",
       "      <th>Q_demos_race</th>\n",
       "      <th>PROLIFIC_PID</th>\n",
       "    </tr>\n",
       "  </thead>\n",
       "  <tbody>\n",
       "    <tr>\n",
       "      <th>2</th>\n",
       "      <td>2022-06-28 09:32:52</td>\n",
       "      <td>R_125SdSXI0xLI29S</td>\n",
       "      <td>21</td>\n",
       "      <td>5</td>\n",
       "      <td>1,2</td>\n",
       "      <td>7</td>\n",
       "      <td>7</td>\n",
       "      <td>7</td>\n",
       "      <td>2</td>\n",
       "      <td>5</td>\n",
       "      <td>3</td>\n",
       "      <td>22</td>\n",
       "      <td>4</td>\n",
       "      <td>1</td>\n",
       "      <td>6</td>\n",
       "      <td>1</td>\n",
       "      <td>5ae11f9709eae20001132c22</td>\n",
       "    </tr>\n",
       "    <tr>\n",
       "      <th>3</th>\n",
       "      <td>2022-06-28 09:34:23</td>\n",
       "      <td>R_23V4Eyckqxl6Bmy</td>\n",
       "      <td>21</td>\n",
       "      <td>5</td>\n",
       "      <td>1,2</td>\n",
       "      <td>7</td>\n",
       "      <td>4</td>\n",
       "      <td>6</td>\n",
       "      <td>2</td>\n",
       "      <td>5</td>\n",
       "      <td>3</td>\n",
       "      <td>22</td>\n",
       "      <td>7</td>\n",
       "      <td>1</td>\n",
       "      <td>5</td>\n",
       "      <td>1</td>\n",
       "      <td>5dd311bde25acf3254f36c9c</td>\n",
       "    </tr>\n",
       "    <tr>\n",
       "      <th>4</th>\n",
       "      <td>2022-06-28 09:35:35</td>\n",
       "      <td>R_2c5wLF9HxTeZ30h</td>\n",
       "      <td>21</td>\n",
       "      <td>5</td>\n",
       "      <td>1,2</td>\n",
       "      <td>7</td>\n",
       "      <td>3</td>\n",
       "      <td>3</td>\n",
       "      <td>1</td>\n",
       "      <td>5</td>\n",
       "      <td>1</td>\n",
       "      <td>20</td>\n",
       "      <td>5</td>\n",
       "      <td>2</td>\n",
       "      <td>2</td>\n",
       "      <td>1</td>\n",
       "      <td>5ba3e40d2d28760001a377bb</td>\n",
       "    </tr>\n",
       "  </tbody>\n",
       "</table>\n",
       "</div>"
      ],
      "text/plain": [
       "          RecordedDate         ResponseId Q_attn_1 Q_attn_2 Q_attn_check  \\\n",
       "2  2022-06-28 09:32:52  R_125SdSXI0xLI29S       21        5          1,2   \n",
       "3  2022-06-28 09:34:23  R_23V4Eyckqxl6Bmy       21        5          1,2   \n",
       "4  2022-06-28 09:35:35  R_2c5wLF9HxTeZ30h       21        5          1,2   \n",
       "\n",
       "  Q_special_diet Q_past_vegetarian Q_past_vegan Q_good_for_env Q_attn_midway  \\\n",
       "2              7                 7            7              2             5   \n",
       "3              7                 4            6              2             5   \n",
       "4              7                 3            3              1             5   \n",
       "\n",
       "  Q_politics Q_US_state Q_demos_age Q_demos_gender Q_demos_income  \\\n",
       "2          3         22           4              1              6   \n",
       "3          3         22           7              1              5   \n",
       "4          1         20           5              2              2   \n",
       "\n",
       "  Q_demos_race              PROLIFIC_PID  \n",
       "2            1  5ae11f9709eae20001132c22  \n",
       "3            1  5dd311bde25acf3254f36c9c  \n",
       "4            1  5ba3e40d2d28760001a377bb  "
      ]
     },
     "execution_count": 71,
     "metadata": {},
     "output_type": "execute_result"
    }
   ],
   "source": [
    "# extract relevant columns\n",
    "sample_df = pd.read_csv(\n",
    "    '../data/online-v1-prolific-sample.csv',\n",
    "    usecols=[\n",
    "        'PROLIFIC_PID', # embedded variable set through URL params\n",
    "        'RecordedDate', 'ResponseId',\n",
    "        'Q_attn_1', 'Q_attn_2', 'Q_attn_check', 'Q_attn_midway', \n",
    "        'Q_US_state',\n",
    "        'Q_special_diet',\n",
    "        'Q_past_vegetarian', 'Q_past_vegan', \n",
    "        'Q_good_for_env', 'Q_politics',\n",
    "        'Q_demos_age', 'Q_demos_gender', 'Q_demos_income', 'Q_demos_race',\n",
    "]).drop([0,1])\n",
    "sample_df.head(3)"
   ]
  },
  {
   "cell_type": "markdown",
   "id": "acd5ce20",
   "metadata": {},
   "source": [
    "### Survey data filtering\n",
    "- We limit data to participants who report living in MA.\n",
    "- We drop data from participants who failed any of the attention checks in the survey.\n",
    "- We drop data from participants who answer a higher number for Diet Q.1 than Diet Q.2 (see above) because these answers are then inconsistent; they might not have understood the question.\n",
    "- We drop data from participants who did not answer the gender question as male/female (i.e. drop people who reported \"other\" or \"prefer not to say\") in order to better match census data.\n"
   ]
  },
  {
   "cell_type": "code",
   "execution_count": 72,
   "id": "18744fee",
   "metadata": {},
   "outputs": [
    {
     "name": "stdout",
     "output_type": "stream",
     "text": [
      "dropping 1 non PROLIFIC responses\n"
     ]
    }
   ],
   "source": [
    "# only include completed surveys via Prolific\n",
    "N_PROLIFIC_PID_na = len(sample_df[sample_df['PROLIFIC_PID'].isna()])\n",
    "print('dropping %s non PROLIFIC responses' % N_PROLIFIC_PID_na)\n",
    "sample_df = sample_df[sample_df['PROLIFIC_PID'].notna()]"
   ]
  },
  {
   "cell_type": "code",
   "execution_count": 73,
   "id": "33544906",
   "metadata": {},
   "outputs": [],
   "source": [
    "def passed_attn_checks(row):\n",
    "    if not ((row['Q_attn_1'] == 'twenty one') or (float(row['Q_attn_1']) == 21)):\n",
    "        print(row['ResponseId'], 'failed Q_attn_1')\n",
    "        return False\n",
    "    if float(row['Q_attn_2']) != 5:\n",
    "        print(row['ResponseId'], 'failed Q_attn_2')\n",
    "        return False\n",
    "    if row['Q_attn_check'] != '1,2':\n",
    "        print(row['ResponseId'], 'failed Q_attn_check')\n",
    "        return False\n",
    "    if float(row['Q_attn_midway']) != 5:\n",
    "        print(row['ResponseId'], 'failed Q_attn_midway')\n",
    "        return False\n",
    "    return True"
   ]
  },
  {
   "cell_type": "code",
   "execution_count": 74,
   "id": "bb8892df",
   "metadata": {},
   "outputs": [
    {
     "name": "stdout",
     "output_type": "stream",
     "text": [
      "R_1Nagt8YYb9KXsgu failed Q_attn_check\n",
      "R_25u12nxsbq17quY failed Q_attn_2\n",
      "R_1ewLnYbEh64px5y failed Q_attn_2\n",
      "R_3EbCFbWypJAH9eU failed Q_attn_2\n",
      "R_31sGHSw29sejYZu failed Q_attn_check\n",
      "R_XNtU8UZMHfqK8lX failed Q_attn_2\n",
      "R_1Ov4PG2EqkoaNBI failed Q_attn_2\n",
      "R_2sbRJWBoxeF0yHs failed Q_attn_2\n",
      "R_3Hho2J2KAXLsDob failed Q_attn_2\n",
      "R_3HUPi75tTdT9pnD failed Q_attn_2\n",
      "R_1eLSotOLp5DjqJP failed Q_attn_2\n",
      "R_1LLnNW2RfOKf93z failed Q_attn_midway\n",
      "R_3fvnmHGH7Bmp938 failed Q_attn_2\n",
      "R_33mAmfZaIBDBZiT failed Q_attn_2\n",
      "R_3g8l72aZYNXtcZh failed Q_attn_check\n",
      "R_1CjxgolIeuRdypP failed Q_attn_check\n",
      "R_UDAbbOpDeLg8Jot failed Q_attn_check\n",
      "R_1HqLpaBDw6P827V failed Q_attn_2\n",
      "R_pR8DHCNXAHa8ZFv failed Q_attn_2\n",
      "R_ahgvJfr1UphyDap failed Q_attn_check\n",
      "R_1GVKbaKQiuw141N failed Q_attn_2\n",
      "R_3Lcik6s2LGNYWgX failed Q_attn_check\n",
      "R_3lDnbCj1Va514U1 failed Q_attn_midway\n",
      "R_3CB2nXKtOtqSghu failed Q_attn_check\n",
      "R_1rue3nisMKvanI1 failed Q_attn_1\n",
      "R_d6luDeloHVBgY8N failed Q_attn_check\n",
      "R_78wK70gU8uuGTbH failed Q_attn_midway\n",
      "641/668 respondents passed all attention checks\n"
     ]
    }
   ],
   "source": [
    "sample_df['passed_attn_checks'] = sample_df.apply(passed_attn_checks, axis=1)\n",
    "passed_attn_checks_id_list = list(sample_df[sample_df.passed_attn_checks == True].ResponseId)\n",
    "print('%s/%s respondents passed all attention checks' % (len(passed_attn_checks_id_list), len(sample_df)))\n",
    "# passed_attn_checks_id_list"
   ]
  },
  {
   "cell_type": "markdown",
   "id": "07927bf8",
   "metadata": {},
   "source": [
    "Drop responses from participants who failed ANY attention check"
   ]
  },
  {
   "cell_type": "code",
   "execution_count": 75,
   "id": "b4a0e682",
   "metadata": {},
   "outputs": [
    {
     "name": "stdout",
     "output_type": "stream",
     "text": [
      "dropping responses from participants who failed any attention check\n"
     ]
    }
   ],
   "source": [
    "print('dropping responses from participants who failed any attention check')\n",
    "sample_df = sample_df[sample_df['passed_attn_checks']]"
   ]
  },
  {
   "cell_type": "code",
   "execution_count": 76,
   "id": "869162db",
   "metadata": {},
   "outputs": [
    {
     "name": "stdout",
     "output_type": "stream",
     "text": [
      "In which state do you currently reside?\n",
      "\n"
     ]
    },
    {
     "data": {
      "image/png": "[encoded data removed]",
      "text/plain": [
       "<Figure size 450x750 with 1 Axes>"
      ]
     },
     "metadata": {
      "needs_background": "light"
     },
     "output_type": "display_data"
    }
   ],
   "source": [
    "# Participation by state\n",
    "print('%s\\n'%codebook['Q_US_state']['Q'])\n",
    "fig,ax = plt.subplots(figsize=(3,5), dpi=150)\n",
    "_ = sample_df['Q_US_state'].value_counts().sort_values().rename(\n",
    "    codebook['Q_US_state']['choices']).plot.barh(ax=ax)"
   ]
  },
  {
   "cell_type": "markdown",
   "id": "bfb8dd30",
   "metadata": {},
   "source": [
    "Drop responses from people outside MA"
   ]
  },
  {
   "cell_type": "code",
   "execution_count": 77,
   "id": "68d34628",
   "metadata": {},
   "outputs": [
    {
     "name": "stdout",
     "output_type": "stream",
     "text": [
      "limiting sample data to 309 participants residing in MA (out of 641 total)\n"
     ]
    }
   ],
   "source": [
    "n_all_states = len(sample_df)\n",
    "sample_df = sample_df[sample_df['Q_US_state'].map(codebook['Q_US_state']['choices']) == 'Massachusetts']\n",
    "n_ma = len(sample_df)\n",
    "print('limiting sample data to %s participants residing in MA (out of %s total)' % (n_ma, n_all_states))"
   ]
  },
  {
   "cell_type": "markdown",
   "id": "13f35f5b",
   "metadata": {},
   "source": [
    "We drop data from participants who answer a higher number for Diet Q.1 than Diet Q.2 (see above) because these answers are then inconsistent; they might not have understood the question."
   ]
  },
  {
   "cell_type": "code",
   "execution_count": 78,
   "id": "f8cb01d4",
   "metadata": {},
   "outputs": [
    {
     "name": "stdout",
     "output_type": "stream",
     "text": [
      "dropping data from 9 participants with inconsistent diet answers\n"
     ]
    }
   ],
   "source": [
    "# Note the names of these columns are the opposite of what they ask about\n",
    "print('dropping data from %s participants with inconsistent diet answers' % (\n",
    "    sum(sample_df['Q_past_vegetarian'] > sample_df['Q_past_vegan'])\n",
    "))\n",
    "sample_df = sample_df[sample_df['Q_past_vegetarian'] <= sample_df['Q_past_vegan']]"
   ]
  },
  {
   "cell_type": "markdown",
   "id": "9e0d3cdf",
   "metadata": {},
   "source": [
    "We drop data from participants who did not answer the gender question as male/female (i.e. drop people who reported \"other\" or \"prefer not to say\") in order to better match census data."
   ]
  },
  {
   "cell_type": "code",
   "execution_count": 79,
   "id": "b1722e74",
   "metadata": {},
   "outputs": [
    {
     "name": "stdout",
     "output_type": "stream",
     "text": [
      "What is your gender?\n",
      "\n",
      "Prefer not to answer      1\n",
      "Other                    10\n",
      "Male                    119\n",
      "Female                  170\n",
      "Name: Q_demos_gender, dtype: int64\n"
     ]
    },
    {
     "data": {
      "image/png": "[encoded data removed]",
      "text/plain": [
       "<Figure size 187.5x187.5 with 1 Axes>"
      ]
     },
     "metadata": {
      "needs_background": "light"
     },
     "output_type": "display_data"
    }
   ],
   "source": [
    "# Participation by gender\n",
    "print('%s\\n'%codebook['Q_demos_gender']['Q'])\n",
    "fig,ax = plt.subplots(figsize=(1.25,1.25), dpi=150)\n",
    "print(sample_df['Q_demos_gender'].value_counts().sort_values().rename(\n",
    "    codebook['Q_demos_gender']['choices']))\n",
    "_ = sample_df['Q_demos_gender'].value_counts().sort_values().rename(\n",
    "    codebook['Q_demos_gender']['choices']).plot.barh(ax=ax)"
   ]
  },
  {
   "cell_type": "code",
   "execution_count": 80,
   "id": "bd79ae08",
   "metadata": {},
   "outputs": [
    {
     "name": "stdout",
     "output_type": "stream",
     "text": [
      "dropping data from 11 participants who did not answer with a Male/Female gender identity\n"
     ]
    }
   ],
   "source": [
    "print('dropping data from %s participants who did not answer with a Male/Female gender identity' % (\n",
    "    (len(sample_df) - sum(sample_df['Q_demos_gender'].isin(['1','2'])))\n",
    "))\n",
    "sample_df = sample_df[sample_df['Q_demos_gender'].isin(['1','2'])]"
   ]
  },
  {
   "cell_type": "code",
   "execution_count": 81,
   "id": "995d524e",
   "metadata": {},
   "outputs": [
    {
     "name": "stdout",
     "output_type": "stream",
     "text": [
      "resulting sample size: 289\n"
     ]
    }
   ],
   "source": [
    "print('resulting sample size: %s' % len(sample_df))"
   ]
  },
  {
   "cell_type": "markdown",
   "id": "70eeb895",
   "metadata": {},
   "source": [
    "### Sample demographics / sample data representativeness\n",
    "\n",
    "Inspect demographics before creating representative sample."
   ]
  },
  {
   "cell_type": "code",
   "execution_count": 91,
   "id": "ad483a2f",
   "metadata": {},
   "outputs": [
    {
     "name": "stdout",
     "output_type": "stream",
     "text": [
      "How old are you?\n"
     ]
    },
    {
     "data": {
      "image/png": "[encoded data removed]",
      "text/plain": [
       "<Figure size 300x300 with 1 Axes>"
      ]
     },
     "metadata": {
      "needs_background": "light"
     },
     "output_type": "display_data"
    }
   ],
   "source": [
    "print('%s'%codebook['Q_demos_age']['Q'])\n",
    "fig,ax = plt.subplots(figsize=(2,2), dpi=150)\n",
    "_ = sample_df['Q_demos_age'].value_counts().rename(codebook['Q_demos_age']['choices']).sort_index().plot.barh(ax=ax)\n",
    "_ = ax.set_title('Age')\n",
    "# print(sample_df['Q_demos_age'].value_counts().sort_index().rename(codebook['Q_demos_age']['choices']))"
   ]
  },
  {
   "cell_type": "code",
   "execution_count": 94,
   "id": "1cd20b6f",
   "metadata": {},
   "outputs": [
    {
     "name": "stdout",
     "output_type": "stream",
     "text": [
      "What was your total household income before taxes during the past 12 months?\n",
      "\n"
     ]
    },
    {
     "data": {
      "image/png": "[encoded data removed]",
      "text/plain": [
       "<Figure size 300x300 with 1 Axes>"
      ]
     },
     "metadata": {
      "needs_background": "light"
     },
     "output_type": "display_data"
    }
   ],
   "source": [
    "print('%s\\n'%codebook['Q_demos_income']['Q'])\n",
    "fig,ax = plt.subplots(figsize=(2,2), dpi=150)\n",
    "_ = sample_df['Q_demos_income'].value_counts().sort_index().rename(\n",
    "    codebook['Q_demos_income']['choices']).plot.barh(ax=ax)\n",
    "_ = ax.set_title('Household income')\n",
    "# print(sample_df['Q_demos_income'].value_counts().sort_index())"
   ]
  },
  {
   "cell_type": "code",
   "execution_count": 95,
   "id": "52fcefe0",
   "metadata": {},
   "outputs": [
    {
     "name": "stdout",
     "output_type": "stream",
     "text": [
      "Choose one or more races that you consider yourself to be\n"
     ]
    },
    {
     "data": {
      "image/png": "[encoded data removed]",
      "text/plain": [
       "<Figure size 300x100 with 1 Axes>"
      ]
     },
     "metadata": {
      "needs_background": "light"
     },
     "output_type": "display_data"
    }
   ],
   "source": [
    "# Race: We put anyone who answered with 2 or more races or 'Prefer not to say' \n",
    "# in the 'Other' category\n",
    "# print(sample_df['Q_demos_race'].value_counts())\n",
    "sample_df['race'] = (sample_df['Q_demos_race']\n",
    "                       .apply(lambda r: r if r in ['1','2','3','4','5'] else '6')\n",
    "                       .map(codebook['Q_demos_race']['choices']))\n",
    "# print(sample_df['race'].value_counts())\n",
    "print(codebook['Q_demos_race']['Q'])\n",
    "fig,ax = plt.subplots(figsize=(3,1), dpi=100)\n",
    "_ = sample_df['race'].value_counts().plot.barh(ax=ax)"
   ]
  },
  {
   "cell_type": "code",
   "execution_count": 100,
   "id": "1af37361",
   "metadata": {},
   "outputs": [
    {
     "name": "stdout",
     "output_type": "stream",
     "text": [
      "Which of the following best describes your political preference?\n"
     ]
    },
    {
     "data": {
      "image/png": "[encoded data removed]",
      "text/plain": [
       "<Figure size 400x200 with 1 Axes>"
      ]
     },
     "metadata": {
      "needs_background": "light"
     },
     "output_type": "display_data"
    }
   ],
   "source": [
    "print(codebook['Q_politics']['Q'])\n",
    "fig,ax = plt.subplots(figsize=(4,2), dpi=100)\n",
    "_ = sample_df.Q_politics.value_counts().sort_index().rename(\n",
    "    codebook['Q_politics']['choices']).plot.barh(ax=ax)\n",
    "_ = ax.set_title('Politics')\n",
    "# print(sample_df['Q_politics'].value_counts().sort_index().rename(codebook['Q_politics']['choices']))"
   ]
  },
  {
   "cell_type": "markdown",
   "id": "1d990450",
   "metadata": {},
   "source": [
    "### Data transformations"
   ]
  },
  {
   "cell_type": "markdown",
   "id": "c69c4ce5",
   "metadata": {},
   "source": [
    "#### Vegetarian and vegan diets"
   ]
  },
  {
   "cell_type": "code",
   "execution_count": 101,
   "id": "9e7b96cf",
   "metadata": {},
   "outputs": [
    {
     "data": {
      "text/plain": [
       "7        234\n",
       "3         17\n",
       "6         16\n",
       "2          6\n",
       "1          4\n",
       "5          4\n",
       "4          2\n",
       "4,6        2\n",
       "2,3        1\n",
       "3,6        1\n",
       "1,7        1\n",
       "1,3,4      1\n",
       "Name: Q_special_diet, dtype: int64"
      ]
     },
     "execution_count": 101,
     "metadata": {},
     "output_type": "execute_result"
    }
   ],
   "source": [
    "sample_df['Q_special_diet'].value_counts()"
   ]
  },
  {
   "cell_type": "code",
   "execution_count": 102,
   "id": "a1d682fa",
   "metadata": {},
   "outputs": [],
   "source": [
    "sample_df['is_vegetarian'] = sample_df['Q_special_diet'].astype(str).apply(lambda d: 1 if ('3' in d) else 0)\n",
    "sample_df['is_vegan'] = sample_df['Q_special_diet'].astype(str).apply(lambda d: 1 if ('5' in d) else 0)"
   ]
  },
  {
   "cell_type": "markdown",
   "id": "389cd6ce",
   "metadata": {},
   "source": [
    "#### Past days eating meat, vegetarian, vegan\n",
    "\n",
    "Note the questions `Q_past_vegetarian` and `Q_past_vegan` have counterintuitive IDs. They ask about number of days in the past week eating meat (`Q_past_vegetarian`) and any animal product (`Q_past_vegan`). \n",
    "\n",
    "We transform the responses for `Q_past_vegetarian` and `Q_past_vegan` into past days eating meat, vegetarian, vegan (plant-based) diets, coded as `M`,`V`,`PB`, respectively.\n",
    "\n",
    "For each sample in the population we calculate their individual V: number of days per week eating vegetarian as \n",
    "\n",
    "`M = Q_past_vegetarian`\n",
    "\n",
    "`V = Q_past_vegan - Q_past_vegetarian`\n",
    "\n",
    "`PB = 7 - Q_past_vegan`\n",
    "\n",
    "We then calculate averages over the population"
   ]
  },
  {
   "cell_type": "code",
   "execution_count": 104,
   "id": "7fef5b75",
   "metadata": {},
   "outputs": [
    {
     "name": "stdout",
     "output_type": "stream",
     "text": [
      "In the past 7 days, on how many days did you have a meal that contained any meat, poultry, or fish?\n",
      "In the past 7 days, on how many days did you eat a meal that contained any kind of animal product? (i.e. on how many days did you eat meat, poultry, fish, dairy, eggs, etc?)\n"
     ]
    },
    {
     "data": {
      "image/png": "[encoded data removed]",
      "text/plain": [
       "<Figure size 800x200 with 2 Axes>"
      ]
     },
     "metadata": {
      "needs_background": "light"
     },
     "output_type": "display_data"
    }
   ],
   "source": [
    "print(codebook['Q_past_vegetarian']['Q'])\n",
    "print(codebook['Q_past_vegan']['Q'])\n",
    "fig,(ax1,ax2) = plt.subplots(1,2, figsize=(8,2), sharey=True, dpi=100)\n",
    "ax1.set_title('Past days/week ate meat')\n",
    "_ = sample_df['Q_past_vegetarian'].value_counts().sort_index().plot.bar(ax=ax1)\n",
    "ax2.set_title('Past days/week ate any animal product')\n",
    "_ = sample_df['Q_past_vegan'].value_counts().sort_index().plot.bar(ax=ax2)\n",
    "_ = [ax.set_xticklabels(ax.get_xticklabels(), rotation=0, ha='right') for ax in (ax1,ax2)]"
   ]
  },
  {
   "cell_type": "code",
   "execution_count": 105,
   "id": "9f15866e",
   "metadata": {
    "scrolled": true
   },
   "outputs": [],
   "source": [
    "sample_df['M'] = sample_df['Q_past_vegetarian'].astype(int)\n",
    "sample_df['V'] = sample_df['Q_past_vegan'].astype(int) - sample_df['Q_past_vegetarian'].astype(int)\n",
    "sample_df['PB'] = 7 - sample_df['Q_past_vegan'].astype(int)"
   ]
  },
  {
   "cell_type": "markdown",
   "id": "2b07d112",
   "metadata": {},
   "source": [
    "Some basic column name transformations"
   ]
  },
  {
   "cell_type": "code",
   "execution_count": 106,
   "id": "eff3f4ae",
   "metadata": {},
   "outputs": [
    {
     "data": {
      "text/html": [
       "<div>\n",
       "<style scoped>\n",
       "    .dataframe tbody tr th:only-of-type {\n",
       "        vertical-align: middle;\n",
       "    }\n",
       "\n",
       "    .dataframe tbody tr th {\n",
       "        vertical-align: top;\n",
       "    }\n",
       "\n",
       "    .dataframe thead th {\n",
       "        text-align: right;\n",
       "    }\n",
       "</style>\n",
       "<table border=\"1\" class=\"dataframe\">\n",
       "  <thead>\n",
       "    <tr style=\"text-align: right;\">\n",
       "      <th></th>\n",
       "      <th>RecordedDate</th>\n",
       "      <th>ResponseId</th>\n",
       "      <th>Q_attn_1</th>\n",
       "      <th>Q_attn_2</th>\n",
       "      <th>Q_attn_check</th>\n",
       "      <th>Q_special_diet</th>\n",
       "      <th>Q_past_vegetarian</th>\n",
       "      <th>Q_past_vegan</th>\n",
       "      <th>Q_good_for_env</th>\n",
       "      <th>Q_attn_midway</th>\n",
       "      <th>...</th>\n",
       "      <th>PROLIFIC_PID</th>\n",
       "      <th>passed_attn_checks</th>\n",
       "      <th>race</th>\n",
       "      <th>is_vegetarian</th>\n",
       "      <th>is_vegan</th>\n",
       "      <th>M</th>\n",
       "      <th>V</th>\n",
       "      <th>PB</th>\n",
       "      <th>age</th>\n",
       "      <th>gender</th>\n",
       "    </tr>\n",
       "  </thead>\n",
       "  <tbody>\n",
       "    <tr>\n",
       "      <th>2</th>\n",
       "      <td>2022-06-28 09:32:52</td>\n",
       "      <td>R_125SdSXI0xLI29S</td>\n",
       "      <td>21</td>\n",
       "      <td>5</td>\n",
       "      <td>1,2</td>\n",
       "      <td>7</td>\n",
       "      <td>7</td>\n",
       "      <td>7</td>\n",
       "      <td>2</td>\n",
       "      <td>5</td>\n",
       "      <td>...</td>\n",
       "      <td>5ae11f9709eae20001132c22</td>\n",
       "      <td>True</td>\n",
       "      <td>White or Caucausian</td>\n",
       "      <td>0</td>\n",
       "      <td>0</td>\n",
       "      <td>7</td>\n",
       "      <td>0</td>\n",
       "      <td>0</td>\n",
       "      <td>35 - 44 years old</td>\n",
       "      <td>Male</td>\n",
       "    </tr>\n",
       "    <tr>\n",
       "      <th>3</th>\n",
       "      <td>2022-06-28 09:34:23</td>\n",
       "      <td>R_23V4Eyckqxl6Bmy</td>\n",
       "      <td>21</td>\n",
       "      <td>5</td>\n",
       "      <td>1,2</td>\n",
       "      <td>7</td>\n",
       "      <td>4</td>\n",
       "      <td>6</td>\n",
       "      <td>2</td>\n",
       "      <td>5</td>\n",
       "      <td>...</td>\n",
       "      <td>5dd311bde25acf3254f36c9c</td>\n",
       "      <td>True</td>\n",
       "      <td>White or Caucausian</td>\n",
       "      <td>0</td>\n",
       "      <td>0</td>\n",
       "      <td>4</td>\n",
       "      <td>2</td>\n",
       "      <td>1</td>\n",
       "      <td>65+ years old</td>\n",
       "      <td>Male</td>\n",
       "    </tr>\n",
       "    <tr>\n",
       "      <th>11</th>\n",
       "      <td>2022-06-28 09:42:26</td>\n",
       "      <td>R_WCLrlRwRPRa5O6J</td>\n",
       "      <td>21</td>\n",
       "      <td>5</td>\n",
       "      <td>1,2</td>\n",
       "      <td>7</td>\n",
       "      <td>4</td>\n",
       "      <td>6</td>\n",
       "      <td>2</td>\n",
       "      <td>5</td>\n",
       "      <td>...</td>\n",
       "      <td>5f49f3262a3d07563d14a7f1</td>\n",
       "      <td>True</td>\n",
       "      <td>White or Caucausian</td>\n",
       "      <td>0</td>\n",
       "      <td>0</td>\n",
       "      <td>4</td>\n",
       "      <td>2</td>\n",
       "      <td>1</td>\n",
       "      <td>25 - 34 years old</td>\n",
       "      <td>Male</td>\n",
       "    </tr>\n",
       "    <tr>\n",
       "      <th>12</th>\n",
       "      <td>2022-06-28 09:42:50</td>\n",
       "      <td>R_yxyjdMYFT14xiN3</td>\n",
       "      <td>21</td>\n",
       "      <td>5</td>\n",
       "      <td>1,2</td>\n",
       "      <td>7</td>\n",
       "      <td>5</td>\n",
       "      <td>7</td>\n",
       "      <td>2</td>\n",
       "      <td>5</td>\n",
       "      <td>...</td>\n",
       "      <td>6294ea877522945ad8df1578</td>\n",
       "      <td>True</td>\n",
       "      <td>White or Caucausian</td>\n",
       "      <td>0</td>\n",
       "      <td>0</td>\n",
       "      <td>5</td>\n",
       "      <td>2</td>\n",
       "      <td>0</td>\n",
       "      <td>35 - 44 years old</td>\n",
       "      <td>Male</td>\n",
       "    </tr>\n",
       "    <tr>\n",
       "      <th>13</th>\n",
       "      <td>2022-06-28 09:42:57</td>\n",
       "      <td>R_2xL9vHDm0KfOgCa</td>\n",
       "      <td>21</td>\n",
       "      <td>5</td>\n",
       "      <td>1,2</td>\n",
       "      <td>7</td>\n",
       "      <td>7</td>\n",
       "      <td>7</td>\n",
       "      <td>2</td>\n",
       "      <td>5</td>\n",
       "      <td>...</td>\n",
       "      <td>6294fc5023a8698296cbf7b0</td>\n",
       "      <td>True</td>\n",
       "      <td>Asian</td>\n",
       "      <td>0</td>\n",
       "      <td>0</td>\n",
       "      <td>7</td>\n",
       "      <td>0</td>\n",
       "      <td>0</td>\n",
       "      <td>18 - 24 years old</td>\n",
       "      <td>Male</td>\n",
       "    </tr>\n",
       "  </tbody>\n",
       "</table>\n",
       "<p>5 rows × 26 columns</p>\n",
       "</div>"
      ],
      "text/plain": [
       "           RecordedDate         ResponseId Q_attn_1 Q_attn_2 Q_attn_check  \\\n",
       "2   2022-06-28 09:32:52  R_125SdSXI0xLI29S       21        5          1,2   \n",
       "3   2022-06-28 09:34:23  R_23V4Eyckqxl6Bmy       21        5          1,2   \n",
       "11  2022-06-28 09:42:26  R_WCLrlRwRPRa5O6J       21        5          1,2   \n",
       "12  2022-06-28 09:42:50  R_yxyjdMYFT14xiN3       21        5          1,2   \n",
       "13  2022-06-28 09:42:57  R_2xL9vHDm0KfOgCa       21        5          1,2   \n",
       "\n",
       "   Q_special_diet Q_past_vegetarian Q_past_vegan Q_good_for_env Q_attn_midway  \\\n",
       "2               7                 7            7              2             5   \n",
       "3               7                 4            6              2             5   \n",
       "11              7                 4            6              2             5   \n",
       "12              7                 5            7              2             5   \n",
       "13              7                 7            7              2             5   \n",
       "\n",
       "    ...              PROLIFIC_PID passed_attn_checks                 race  \\\n",
       "2   ...  5ae11f9709eae20001132c22               True  White or Caucausian   \n",
       "3   ...  5dd311bde25acf3254f36c9c               True  White or Caucausian   \n",
       "11  ...  5f49f3262a3d07563d14a7f1               True  White or Caucausian   \n",
       "12  ...  6294ea877522945ad8df1578               True  White or Caucausian   \n",
       "13  ...  6294fc5023a8698296cbf7b0               True                Asian   \n",
       "\n",
       "   is_vegetarian is_vegan  M  V  PB                age  gender  \n",
       "2              0        0  7  0   0  35 - 44 years old    Male  \n",
       "3              0        0  4  2   1      65+ years old    Male  \n",
       "11             0        0  4  2   1  25 - 34 years old    Male  \n",
       "12             0        0  5  2   0  35 - 44 years old    Male  \n",
       "13             0        0  7  0   0  18 - 24 years old    Male  \n",
       "\n",
       "[5 rows x 26 columns]"
      ]
     },
     "execution_count": 106,
     "metadata": {},
     "output_type": "execute_result"
    }
   ],
   "source": [
    "sample_df['age'] = sample_df['Q_demos_age'].map(codebook['Q_demos_age']['choices'])\n",
    "sample_df['gender'] = sample_df['Q_demos_gender'].map(codebook['Q_demos_gender']['choices'])\n",
    "sample_df.head()"
   ]
  },
  {
   "cell_type": "markdown",
   "id": "27ed1f1d",
   "metadata": {},
   "source": [
    "### Stratified random sampling to create a 'representative' sample population for MA\n",
    "\n",
    "We use population numbers by age group reported by the 2020 ACS 5-Year (Table DP05) for the MA population. This survey does not report gender split by age group, but does report an overall male/female gender split near 50/50. We assume a 50/50 gender split for each age group.\n",
    "We use stratified random sampling, with replacement, to construct a sample that represents the MA population with respect to age and gender: For each age group we randomly draw (with replacement) samples from our survey data for participants reporting gender as male until 50% of the age group population is reached, and then repeat this for female participants.\n"
   ]
  },
  {
   "cell_type": "code",
   "execution_count": 107,
   "id": "7f9e62ec",
   "metadata": {},
   "outputs": [
    {
     "data": {
      "text/html": [
       "<div>\n",
       "<style scoped>\n",
       "    .dataframe tbody tr th:only-of-type {\n",
       "        vertical-align: middle;\n",
       "    }\n",
       "\n",
       "    .dataframe tbody tr th {\n",
       "        vertical-align: top;\n",
       "    }\n",
       "\n",
       "    .dataframe thead th {\n",
       "        text-align: right;\n",
       "    }\n",
       "</style>\n",
       "<table border=\"1\" class=\"dataframe\">\n",
       "  <thead>\n",
       "    <tr style=\"text-align: right;\">\n",
       "      <th></th>\n",
       "      <th>18 - 24 years old</th>\n",
       "      <th>25 - 34 years old</th>\n",
       "      <th>35 - 44 years old</th>\n",
       "      <th>45 - 54 years old</th>\n",
       "      <th>55 - 64 years old</th>\n",
       "      <th>65+ years old</th>\n",
       "    </tr>\n",
       "  </thead>\n",
       "  <tbody>\n",
       "    <tr>\n",
       "      <th>percent total population</th>\n",
       "      <td>7.1</td>\n",
       "      <td>14.3</td>\n",
       "      <td>12.2</td>\n",
       "      <td>13.3</td>\n",
       "      <td>13.6</td>\n",
       "      <td>16.5</td>\n",
       "    </tr>\n",
       "  </tbody>\n",
       "</table>\n",
       "</div>"
      ],
      "text/plain": [
       "                          18 - 24 years old  25 - 34 years old  \\\n",
       "percent total population                7.1               14.3   \n",
       "\n",
       "                          35 - 44 years old  45 - 54 years old  \\\n",
       "percent total population               12.2               13.3   \n",
       "\n",
       "                          55 - 64 years old  65+ years old  \n",
       "percent total population               13.6           16.5  "
      ]
     },
     "execution_count": 107,
     "metadata": {},
     "output_type": "execute_result"
    }
   ],
   "source": [
    "acs_df"
   ]
  },
  {
   "cell_type": "code",
   "execution_count": 108,
   "id": "751cf87d",
   "metadata": {},
   "outputs": [],
   "source": [
    "# only sample the columns we're interested in. Drop the others.\n",
    "sampling_frame_df = sample_df[[\n",
    "    'age', 'gender', 'Q_demos_income', 'race',\n",
    "    'Q_good_for_env', 'Q_politics',\n",
    "    'M', 'V', 'PB',\n",
    "    'is_vegetarian', 'is_vegan',\n",
    "]]"
   ]
  },
  {
   "cell_type": "code",
   "execution_count": 109,
   "id": "be86c085",
   "metadata": {},
   "outputs": [
    {
     "name": "stdout",
     "output_type": "stream",
     "text": [
      "age group: 18 - 24 years old; ACS estimated pct = 7.1\n",
      "age group: 25 - 34 years old; ACS estimated pct = 14.3\n",
      "age group: 35 - 44 years old; ACS estimated pct = 12.2\n",
      "age group: 45 - 54 years old; ACS estimated pct = 13.3\n",
      "age group: 55 - 64 years old; ACS estimated pct = 13.6\n",
      "age group: 65+ years old; ACS estimated pct = 16.5\n"
     ]
    }
   ],
   "source": [
    "# Fake MA population N\n",
    "N_ma_sample_pop = 1000\n",
    "random_state = N_ma_sample_pop # used to ensure reproducibility \n",
    "\n",
    "ma_stratified_df = pd.DataFrame(columns=sampling_frame_df.columns)\n",
    "\n",
    "for age_group in acs_df.columns:\n",
    "    print('age group: %s; ACS estimated pct = %s' % (age_group, acs_df[age_group].values[0]))\n",
    "    # sample 50/50 male/female\n",
    "    for gender in ['Male','Female']:\n",
    "        strata_df = sampling_frame_df[(\n",
    "            (sampling_frame_df['gender']==gender) & \\\n",
    "            (sampling_frame_df['age']==age_group)\n",
    "        )]\n",
    "        ma_stratified_df = pd.concat([\n",
    "            ma_stratified_df, \n",
    "            strata_df.sample(\n",
    "                n=round(N_ma_sample_pop*0.5*acs_df[age_group].values[0]),\n",
    "                replace=True,\n",
    "                random_state=random_state,\n",
    "            )\n",
    "        ])\n",
    "# ma_stratified_df.head()"
   ]
  },
  {
   "cell_type": "code",
   "execution_count": 110,
   "id": "4ecf3b58",
   "metadata": {},
   "outputs": [
    {
     "name": "stdout",
     "output_type": "stream",
     "text": [
      "age\n",
      "18 - 24 years old     7.1\n",
      "25 - 34 years old    14.3\n",
      "35 - 44 years old    12.2\n",
      "45 - 54 years old    13.3\n",
      "55 - 64 years old    13.6\n",
      "65+ years old        16.5\n",
      "Name: gender, dtype: float64\n",
      "gender\n",
      "Female    0.5\n",
      "Male      0.5\n",
      "Name: age, dtype: float64\n"
     ]
    }
   ],
   "source": [
    "# data checks\n",
    "assert(len(ma_stratified_df) == N_ma_sample_pop*sum(acs_df.transpose()['percent total population']))\n",
    "print(ma_stratified_df.groupby(['age']).count()['gender']/N_ma_sample_pop)\n",
    "print(ma_stratified_df.groupby(['gender']).count()['age']/len(ma_stratified_df))"
   ]
  },
  {
   "cell_type": "markdown",
   "id": "e4ec524b",
   "metadata": {},
   "source": [
    "### Population averages for M, V, PB\n"
   ]
  },
  {
   "cell_type": "code",
   "execution_count": 113,
   "id": "9438ac0e",
   "metadata": {},
   "outputs": [
    {
     "name": "stdout",
     "output_type": "stream",
     "text": [
      "mean M = 4.51\n",
      "mean V = 1.69\n",
      "mean PB = 0.80\n"
     ]
    }
   ],
   "source": [
    "print('mean M = %0.2f'%ma_stratified_df['M'].mean())\n",
    "print('mean V = %0.2f'%ma_stratified_df['V'].mean())\n",
    "print('mean PB = %0.2f'%ma_stratified_df['PB'].mean())\n",
    "# data check -- should sum to ~7 days per week\n",
    "assert(7 == round(sum([ma_stratified_df[D].mean() for D in ['M','V','PB']])))"
   ]
  },
  {
   "cell_type": "code",
   "execution_count": 114,
   "id": "e6f95cc7",
   "metadata": {},
   "outputs": [
    {
     "name": "stdout",
     "output_type": "stream",
     "text": [
      "median M = 4.00\n",
      "median V = 2.00\n",
      "median PB = 0.00\n"
     ]
    }
   ],
   "source": [
    "print('median M = %0.2f'%ma_stratified_df['M'].median())\n",
    "print('median V = %0.2f'%ma_stratified_df['V'].median())\n",
    "print('median PB = %0.2f'%ma_stratified_df['PB'].median())"
   ]
  },
  {
   "cell_type": "markdown",
   "id": "bcff0636",
   "metadata": {},
   "source": [
    "### More detailed breakdowns"
   ]
  },
  {
   "cell_type": "code",
   "execution_count": 115,
   "id": "d5b81fe6",
   "metadata": {},
   "outputs": [
    {
     "data": {
      "image/png": "[encoded data removed]",
      "text/plain": [
       "<Figure size 1200x400 with 3 Axes>"
      ]
     },
     "metadata": {
      "needs_background": "light"
     },
     "output_type": "display_data"
    }
   ],
   "source": [
    "fig,(ax1,ax2,ax3) = plt.subplots(1,3, figsize=(12,4), sharey=True, dpi=100)\n",
    "ax1.set_title('Past days/week ate meat (M)')\n",
    "_ = ma_stratified_df['M'].value_counts().sort_index().plot.bar(ax=ax1)\n",
    "ax2.set_title('Past days/week ate vegetarian (V)')\n",
    "_ = ma_stratified_df['V'].value_counts().sort_index().plot.bar(ax=ax2)\n",
    "ax3.set_title('Past days/week ate plant based (PB)')\n",
    "_ = ma_stratified_df['PB'].value_counts().sort_index().plot.bar(ax=ax3)\n",
    "_ = [ax.set_xticklabels(ax.get_xticklabels(), rotation=0, ha='right') for ax in (ax1,ax2,ax3)]\n",
    "\n",
    "# print('Past days/week ate meat (M)')\n",
    "# print(ma_stratified_df['M'].value_counts().sort_index())\n",
    "# print(ma_stratified_df['M'].describe())\n",
    "# print('\\nPast days/week ate vegetarian (V)')\n",
    "# print(ma_stratified_df['V'].value_counts().sort_index())\n",
    "# print(ma_stratified_df['V'].describe())\n",
    "# print('\\nPast days/week ate plant based (PB)')\n",
    "# print(ma_stratified_df['PB'].value_counts().sort_index())\n",
    "# print(ma_stratified_df['PB'].describe())"
   ]
  },
  {
   "cell_type": "code",
   "execution_count": 116,
   "id": "c0476349",
   "metadata": {},
   "outputs": [
    {
     "data": {
      "text/html": [
       "<div>\n",
       "<style scoped>\n",
       "    .dataframe tbody tr th:only-of-type {\n",
       "        vertical-align: middle;\n",
       "    }\n",
       "\n",
       "    .dataframe tbody tr th {\n",
       "        vertical-align: top;\n",
       "    }\n",
       "\n",
       "    .dataframe thead tr th {\n",
       "        text-align: left;\n",
       "    }\n",
       "\n",
       "    .dataframe thead tr:last-of-type th {\n",
       "        text-align: right;\n",
       "    }\n",
       "</style>\n",
       "<table border=\"1\" class=\"dataframe\">\n",
       "  <thead>\n",
       "    <tr>\n",
       "      <th></th>\n",
       "      <th></th>\n",
       "      <th colspan=\"3\" halign=\"left\">M</th>\n",
       "      <th colspan=\"3\" halign=\"left\">V</th>\n",
       "      <th colspan=\"3\" halign=\"left\">PB</th>\n",
       "    </tr>\n",
       "    <tr>\n",
       "      <th></th>\n",
       "      <th></th>\n",
       "      <th>mean</th>\n",
       "      <th>std</th>\n",
       "      <th>median</th>\n",
       "      <th>mean</th>\n",
       "      <th>std</th>\n",
       "      <th>median</th>\n",
       "      <th>mean</th>\n",
       "      <th>std</th>\n",
       "      <th>median</th>\n",
       "    </tr>\n",
       "    <tr>\n",
       "      <th>age</th>\n",
       "      <th>gender</th>\n",
       "      <th></th>\n",
       "      <th></th>\n",
       "      <th></th>\n",
       "      <th></th>\n",
       "      <th></th>\n",
       "      <th></th>\n",
       "      <th></th>\n",
       "      <th></th>\n",
       "      <th></th>\n",
       "    </tr>\n",
       "  </thead>\n",
       "  <tbody>\n",
       "    <tr>\n",
       "      <th rowspan=\"2\" valign=\"top\">18 - 24 years old</th>\n",
       "      <th>Female</th>\n",
       "      <td>4.462254</td>\n",
       "      <td>2.215525</td>\n",
       "      <td>5.0</td>\n",
       "      <td>1.787042</td>\n",
       "      <td>1.814829</td>\n",
       "      <td>2.0</td>\n",
       "      <td>0.750704</td>\n",
       "      <td>1.604654</td>\n",
       "      <td>0.0</td>\n",
       "    </tr>\n",
       "    <tr>\n",
       "      <th>Male</th>\n",
       "      <td>5.625634</td>\n",
       "      <td>1.924576</td>\n",
       "      <td>7.0</td>\n",
       "      <td>1.374366</td>\n",
       "      <td>1.924576</td>\n",
       "      <td>0.0</td>\n",
       "      <td>0.000000</td>\n",
       "      <td>0.000000</td>\n",
       "      <td>0.0</td>\n",
       "    </tr>\n",
       "    <tr>\n",
       "      <th rowspan=\"2\" valign=\"top\">25 - 34 years old</th>\n",
       "      <th>Female</th>\n",
       "      <td>4.259860</td>\n",
       "      <td>2.523111</td>\n",
       "      <td>4.0</td>\n",
       "      <td>2.145315</td>\n",
       "      <td>2.304490</td>\n",
       "      <td>2.0</td>\n",
       "      <td>0.594825</td>\n",
       "      <td>1.425308</td>\n",
       "      <td>0.0</td>\n",
       "    </tr>\n",
       "    <tr>\n",
       "      <th>Male</th>\n",
       "      <td>5.447273</td>\n",
       "      <td>1.719594</td>\n",
       "      <td>5.0</td>\n",
       "      <td>1.188531</td>\n",
       "      <td>1.625862</td>\n",
       "      <td>0.0</td>\n",
       "      <td>0.364196</td>\n",
       "      <td>0.822440</td>\n",
       "      <td>0.0</td>\n",
       "    </tr>\n",
       "    <tr>\n",
       "      <th rowspan=\"2\" valign=\"top\">35 - 44 years old</th>\n",
       "      <th>Female</th>\n",
       "      <td>4.634262</td>\n",
       "      <td>1.964559</td>\n",
       "      <td>4.0</td>\n",
       "      <td>1.237541</td>\n",
       "      <td>1.390290</td>\n",
       "      <td>1.0</td>\n",
       "      <td>1.128197</td>\n",
       "      <td>1.902603</td>\n",
       "      <td>0.0</td>\n",
       "    </tr>\n",
       "    <tr>\n",
       "      <th>Male</th>\n",
       "      <td>5.072951</td>\n",
       "      <td>1.638033</td>\n",
       "      <td>4.0</td>\n",
       "      <td>1.422951</td>\n",
       "      <td>1.365659</td>\n",
       "      <td>1.0</td>\n",
       "      <td>0.504098</td>\n",
       "      <td>1.013509</td>\n",
       "      <td>0.0</td>\n",
       "    </tr>\n",
       "    <tr>\n",
       "      <th rowspan=\"2\" valign=\"top\">45 - 54 years old</th>\n",
       "      <th>Female</th>\n",
       "      <td>3.445865</td>\n",
       "      <td>2.346603</td>\n",
       "      <td>4.0</td>\n",
       "      <td>2.655338</td>\n",
       "      <td>1.922394</td>\n",
       "      <td>2.0</td>\n",
       "      <td>0.898797</td>\n",
       "      <td>1.374241</td>\n",
       "      <td>0.0</td>\n",
       "    </tr>\n",
       "    <tr>\n",
       "      <th>Male</th>\n",
       "      <td>5.268271</td>\n",
       "      <td>1.591138</td>\n",
       "      <td>4.0</td>\n",
       "      <td>1.453083</td>\n",
       "      <td>1.423323</td>\n",
       "      <td>2.0</td>\n",
       "      <td>0.278647</td>\n",
       "      <td>0.448367</td>\n",
       "      <td>0.0</td>\n",
       "    </tr>\n",
       "    <tr>\n",
       "      <th rowspan=\"2\" valign=\"top\">55 - 64 years old</th>\n",
       "      <th>Female</th>\n",
       "      <td>3.644118</td>\n",
       "      <td>2.325440</td>\n",
       "      <td>4.0</td>\n",
       "      <td>2.143088</td>\n",
       "      <td>2.123894</td>\n",
       "      <td>3.0</td>\n",
       "      <td>1.212794</td>\n",
       "      <td>1.888068</td>\n",
       "      <td>0.0</td>\n",
       "    </tr>\n",
       "    <tr>\n",
       "      <th>Male</th>\n",
       "      <td>4.980882</td>\n",
       "      <td>1.294967</td>\n",
       "      <td>4.0</td>\n",
       "      <td>1.447353</td>\n",
       "      <td>0.894423</td>\n",
       "      <td>2.0</td>\n",
       "      <td>0.571765</td>\n",
       "      <td>0.494859</td>\n",
       "      <td>1.0</td>\n",
       "    </tr>\n",
       "    <tr>\n",
       "      <th rowspan=\"2\" valign=\"top\">65+ years old</th>\n",
       "      <th>Female</th>\n",
       "      <td>2.940364</td>\n",
       "      <td>2.720206</td>\n",
       "      <td>1.0</td>\n",
       "      <td>1.994424</td>\n",
       "      <td>1.571419</td>\n",
       "      <td>1.0</td>\n",
       "      <td>2.065212</td>\n",
       "      <td>2.138578</td>\n",
       "      <td>3.0</td>\n",
       "    </tr>\n",
       "    <tr>\n",
       "      <th>Male</th>\n",
       "      <td>5.066909</td>\n",
       "      <td>1.961660</td>\n",
       "      <td>4.0</td>\n",
       "      <td>1.285091</td>\n",
       "      <td>1.475605</td>\n",
       "      <td>1.0</td>\n",
       "      <td>0.648000</td>\n",
       "      <td>1.332647</td>\n",
       "      <td>0.0</td>\n",
       "    </tr>\n",
       "  </tbody>\n",
       "</table>\n",
       "</div>"
      ],
      "text/plain": [
       "                                 M                          V            \\\n",
       "                              mean       std median      mean       std   \n",
       "age               gender                                                  \n",
       "18 - 24 years old Female  4.462254  2.215525    5.0  1.787042  1.814829   \n",
       "                  Male    5.625634  1.924576    7.0  1.374366  1.924576   \n",
       "25 - 34 years old Female  4.259860  2.523111    4.0  2.145315  2.304490   \n",
       "                  Male    5.447273  1.719594    5.0  1.188531  1.625862   \n",
       "35 - 44 years old Female  4.634262  1.964559    4.0  1.237541  1.390290   \n",
       "                  Male    5.072951  1.638033    4.0  1.422951  1.365659   \n",
       "45 - 54 years old Female  3.445865  2.346603    4.0  2.655338  1.922394   \n",
       "                  Male    5.268271  1.591138    4.0  1.453083  1.423323   \n",
       "55 - 64 years old Female  3.644118  2.325440    4.0  2.143088  2.123894   \n",
       "                  Male    4.980882  1.294967    4.0  1.447353  0.894423   \n",
       "65+ years old     Female  2.940364  2.720206    1.0  1.994424  1.571419   \n",
       "                  Male    5.066909  1.961660    4.0  1.285091  1.475605   \n",
       "\n",
       "                                       PB                   \n",
       "                         median      mean       std median  \n",
       "age               gender                                    \n",
       "18 - 24 years old Female    2.0  0.750704  1.604654    0.0  \n",
       "                  Male      0.0  0.000000  0.000000    0.0  \n",
       "25 - 34 years old Female    2.0  0.594825  1.425308    0.0  \n",
       "                  Male      0.0  0.364196  0.822440    0.0  \n",
       "35 - 44 years old Female    1.0  1.128197  1.902603    0.0  \n",
       "                  Male      1.0  0.504098  1.013509    0.0  \n",
       "45 - 54 years old Female    2.0  0.898797  1.374241    0.0  \n",
       "                  Male      2.0  0.278647  0.448367    0.0  \n",
       "55 - 64 years old Female    3.0  1.212794  1.888068    0.0  \n",
       "                  Male      2.0  0.571765  0.494859    1.0  \n",
       "65+ years old     Female    1.0  2.065212  2.138578    3.0  \n",
       "                  Male      1.0  0.648000  1.332647    0.0  "
      ]
     },
     "execution_count": 116,
     "metadata": {},
     "output_type": "execute_result"
    }
   ],
   "source": [
    "ma_stratified_df.groupby(['age', 'gender']).agg({\n",
    "    'M': ['mean', 'std', 'median'],\n",
    "    'V': ['mean', 'std', 'median'],\n",
    "    'PB': ['mean', 'std', 'median'],\n",
    "})"
   ]
  },
  {
   "cell_type": "code",
   "execution_count": 117,
   "id": "9f80055f",
   "metadata": {},
   "outputs": [],
   "source": [
    "def styled_boxplot(df, by, column=None, ax=None):\n",
    "    df.boxplot(\n",
    "        column=column,\n",
    "        by=by, ax=ax,\n",
    "        grid=False,\n",
    "        showmeans=True,\n",
    "        meanprops=dict(marker='D', markeredgecolor='black', markerfacecolor='firebrick'),\n",
    "        boxprops=dict(linestyle='-', linewidth=1.5),\n",
    "        flierprops=dict(linestyle='-', linewidth=1.5),\n",
    "        medianprops=dict(linestyle='-', linewidth=2, color='firebrick'),\n",
    "        whiskerprops=dict(linestyle='-', linewidth=1.5),\n",
    "        capprops=dict(linestyle='-', linewidth=1.5),\n",
    "        showfliers=False, rot=0\n",
    "    ).get_figure().suptitle('') # remove title automatically added by pandas\n",
    "    _ = ax.set_xlabel('')"
   ]
  },
  {
   "cell_type": "code",
   "execution_count": 122,
   "id": "9c57fb37",
   "metadata": {},
   "outputs": [
    {
     "data": {
      "image/png": "[encoded data removed]",
      "text/plain": [
       "<Figure size 500x200 with 3 Axes>"
      ]
     },
     "metadata": {
      "needs_background": "light"
     },
     "output_type": "display_data"
    }
   ],
   "source": [
    "dpi = 100\n",
    "\n",
    "fig,axes = plt.subplots(1,3, figsize=(5,2), dpi=dpi, sharey=True)\n",
    "for i, (ax, d) in enumerate(zip(axes, ['M','V','PB'])):\n",
    "    styled_boxplot(ma_stratified_df, column=d, by='gender', ax=ax)\n",
    "    ax.set_title('days/week %s' % d)\n",
    "    ax.set_yticks(list(range(8)))"
   ]
  },
  {
   "cell_type": "code",
   "execution_count": 123,
   "id": "f00701c2",
   "metadata": {},
   "outputs": [
    {
     "data": {
      "image/png": "[encoded data removed]",
      "text/plain": [
       "<Figure size 900x300 with 3 Axes>"
      ]
     },
     "metadata": {
      "needs_background": "light"
     },
     "output_type": "display_data"
    }
   ],
   "source": [
    "fig,axes = plt.subplots(1,3, figsize=(9,3), dpi=dpi, sharey=True)\n",
    "for i, (ax, d) in enumerate(zip(axes, ['M','V','PB'])):\n",
    "    styled_boxplot(ma_stratified_df, column=d, by='age', ax=ax)\n",
    "    ax.set_title('days/week %s' % d)\n",
    "    _ = ax.set_xticklabels(ax.get_xticklabels(), rotation=90)"
   ]
  },
  {
   "cell_type": "code",
   "execution_count": 124,
   "id": "c48a3d30",
   "metadata": {},
   "outputs": [
    {
     "data": {
      "image/png": "[encoded data removed]",
      "text/plain": [
       "<Figure size 900x300 with 3 Axes>"
      ]
     },
     "metadata": {
      "needs_background": "light"
     },
     "output_type": "display_data"
    }
   ],
   "source": [
    "fig,axes = plt.subplots(1,3, figsize=(9,3), dpi=dpi, sharey=True)\n",
    "for i, (ax, d) in enumerate(zip(axes, ['M','V','PB'])):\n",
    "    styled_boxplot(ma_stratified_df, column=d, by='Q_demos_income', ax=ax)\n",
    "    ax.set_title('days/week %s' % d)\n",
    "    _ = ax.set_xticklabels(list(codebook['Q_demos_income']['choices'].values()),rotation=90)"
   ]
  },
  {
   "cell_type": "code",
   "execution_count": 125,
   "id": "b290af3c",
   "metadata": {},
   "outputs": [
    {
     "data": {
      "image/png": "[encoded data removed]",
      "text/plain": [
       "<Figure size 900x300 with 3 Axes>"
      ]
     },
     "metadata": {
      "needs_background": "light"
     },
     "output_type": "display_data"
    }
   ],
   "source": [
    "fig,axes = plt.subplots(1,3, figsize=(9,3), dpi=dpi, sharey=True)\n",
    "for i, (ax, d) in enumerate(zip(axes, ['M','V','PB'])):\n",
    "    styled_boxplot(ma_stratified_df, column=d, by='race', ax=ax)\n",
    "    ax.set_title('days/week %s' % d)\n",
    "    _ = ax.set_xticklabels(ax.get_xticklabels(),rotation=90)"
   ]
  },
  {
   "cell_type": "markdown",
   "id": "398795c4",
   "metadata": {},
   "source": [
    "### Vegans and vegetarians by demographic group"
   ]
  },
  {
   "cell_type": "code",
   "execution_count": 126,
   "id": "72664780",
   "metadata": {},
   "outputs": [
    {
     "data": {
      "text/html": [
       "<div>\n",
       "<style scoped>\n",
       "    .dataframe tbody tr th:only-of-type {\n",
       "        vertical-align: middle;\n",
       "    }\n",
       "\n",
       "    .dataframe tbody tr th {\n",
       "        vertical-align: top;\n",
       "    }\n",
       "\n",
       "    .dataframe thead th {\n",
       "        text-align: right;\n",
       "    }\n",
       "</style>\n",
       "<table border=\"1\" class=\"dataframe\">\n",
       "  <thead>\n",
       "    <tr style=\"text-align: right;\">\n",
       "      <th></th>\n",
       "      <th>vegetarian</th>\n",
       "      <th>vegan</th>\n",
       "    </tr>\n",
       "    <tr>\n",
       "      <th>age</th>\n",
       "      <th></th>\n",
       "      <th></th>\n",
       "    </tr>\n",
       "  </thead>\n",
       "  <tbody>\n",
       "    <tr>\n",
       "      <th>18 - 24 years old</th>\n",
       "      <td>0.054</td>\n",
       "      <td>0.021</td>\n",
       "    </tr>\n",
       "    <tr>\n",
       "      <th>25 - 34 years old</th>\n",
       "      <td>0.085</td>\n",
       "      <td>0.008</td>\n",
       "    </tr>\n",
       "    <tr>\n",
       "      <th>35 - 44 years old</th>\n",
       "      <td>0.021</td>\n",
       "      <td>0.022</td>\n",
       "    </tr>\n",
       "    <tr>\n",
       "      <th>45 - 54 years old</th>\n",
       "      <td>0.087</td>\n",
       "      <td>0.000</td>\n",
       "    </tr>\n",
       "    <tr>\n",
       "      <th>55 - 64 years old</th>\n",
       "      <td>0.104</td>\n",
       "      <td>0.000</td>\n",
       "    </tr>\n",
       "    <tr>\n",
       "      <th>65+ years old</th>\n",
       "      <td>0.000</td>\n",
       "      <td>0.000</td>\n",
       "    </tr>\n",
       "  </tbody>\n",
       "</table>\n",
       "</div>"
      ],
      "text/plain": [
       "                   vegetarian  vegan\n",
       "age                                 \n",
       "18 - 24 years old       0.054  0.021\n",
       "25 - 34 years old       0.085  0.008\n",
       "35 - 44 years old       0.021  0.022\n",
       "45 - 54 years old       0.087  0.000\n",
       "55 - 64 years old       0.104  0.000\n",
       "65+ years old           0.000  0.000"
      ]
     },
     "execution_count": 126,
     "metadata": {},
     "output_type": "execute_result"
    }
   ],
   "source": [
    "is_v_by_age = ma_stratified_df.groupby('age')['is_vegetarian'].mean().round(3).rename('vegetarian').to_frame()\n",
    "is_v_by_age['vegan'] = ma_stratified_df.groupby('age')['is_vegan'].mean().round(3)\n",
    "is_v_by_age"
   ]
  },
  {
   "cell_type": "code",
   "execution_count": 127,
   "id": "4c8239eb",
   "metadata": {},
   "outputs": [
    {
     "data": {
      "text/html": [
       "<div>\n",
       "<style scoped>\n",
       "    .dataframe tbody tr th:only-of-type {\n",
       "        vertical-align: middle;\n",
       "    }\n",
       "\n",
       "    .dataframe tbody tr th {\n",
       "        vertical-align: top;\n",
       "    }\n",
       "\n",
       "    .dataframe thead th {\n",
       "        text-align: right;\n",
       "    }\n",
       "</style>\n",
       "<table border=\"1\" class=\"dataframe\">\n",
       "  <thead>\n",
       "    <tr style=\"text-align: right;\">\n",
       "      <th></th>\n",
       "      <th>vegetarian</th>\n",
       "      <th>vegan</th>\n",
       "    </tr>\n",
       "    <tr>\n",
       "      <th>Q_demos_income</th>\n",
       "      <th></th>\n",
       "      <th></th>\n",
       "    </tr>\n",
       "  </thead>\n",
       "  <tbody>\n",
       "    <tr>\n",
       "      <th>Less than \\$25,000</th>\n",
       "      <td>0.091</td>\n",
       "      <td>0.000</td>\n",
       "    </tr>\n",
       "    <tr>\n",
       "      <th>\\$25,000 to \\$49,999</th>\n",
       "      <td>0.066</td>\n",
       "      <td>0.000</td>\n",
       "    </tr>\n",
       "    <tr>\n",
       "      <th>\\$50,000 to $74,999</th>\n",
       "      <td>0.022</td>\n",
       "      <td>0.000</td>\n",
       "    </tr>\n",
       "    <tr>\n",
       "      <th>\\$75,000 to \\$99,999</th>\n",
       "      <td>0.042</td>\n",
       "      <td>0.022</td>\n",
       "    </tr>\n",
       "    <tr>\n",
       "      <th>\\$100,000 to $149,999</th>\n",
       "      <td>0.051</td>\n",
       "      <td>0.007</td>\n",
       "    </tr>\n",
       "    <tr>\n",
       "      <th>\\$150,000 or more</th>\n",
       "      <td>0.102</td>\n",
       "      <td>0.018</td>\n",
       "    </tr>\n",
       "    <tr>\n",
       "      <th>Prefer not to say</th>\n",
       "      <td>0.000</td>\n",
       "      <td>0.000</td>\n",
       "    </tr>\n",
       "  </tbody>\n",
       "</table>\n",
       "</div>"
      ],
      "text/plain": [
       "                       vegetarian  vegan\n",
       "Q_demos_income                          \n",
       "Less than \\$25,000          0.091  0.000\n",
       "\\$25,000 to \\$49,999        0.066  0.000\n",
       "\\$50,000 to $74,999         0.022  0.000\n",
       "\\$75,000 to \\$99,999        0.042  0.022\n",
       "\\$100,000 to $149,999       0.051  0.007\n",
       "\\$150,000 or more           0.102  0.018\n",
       "Prefer not to say           0.000  0.000"
      ]
     },
     "execution_count": 127,
     "metadata": {},
     "output_type": "execute_result"
    }
   ],
   "source": [
    "is_v_by_income = ma_stratified_df.groupby('Q_demos_income')['is_vegetarian'].mean().round(3).rename('vegetarian').to_frame()\n",
    "is_v_by_income['vegan'] = ma_stratified_df.groupby('Q_demos_income')['is_vegan'].mean().round(3)\n",
    "is_v_by_income.rename(codebook['Q_demos_income']['choices'])"
   ]
  },
  {
   "cell_type": "code",
   "execution_count": 128,
   "id": "f7830f05",
   "metadata": {},
   "outputs": [
    {
     "data": {
      "text/html": [
       "<div>\n",
       "<style scoped>\n",
       "    .dataframe tbody tr th:only-of-type {\n",
       "        vertical-align: middle;\n",
       "    }\n",
       "\n",
       "    .dataframe tbody tr th {\n",
       "        vertical-align: top;\n",
       "    }\n",
       "\n",
       "    .dataframe thead th {\n",
       "        text-align: right;\n",
       "    }\n",
       "</style>\n",
       "<table border=\"1\" class=\"dataframe\">\n",
       "  <thead>\n",
       "    <tr style=\"text-align: right;\">\n",
       "      <th></th>\n",
       "      <th>vegetarian</th>\n",
       "      <th>vegan</th>\n",
       "    </tr>\n",
       "    <tr>\n",
       "      <th>gender</th>\n",
       "      <th></th>\n",
       "      <th></th>\n",
       "    </tr>\n",
       "  </thead>\n",
       "  <tbody>\n",
       "    <tr>\n",
       "      <th>Female</th>\n",
       "      <td>0.086</td>\n",
       "      <td>0.014</td>\n",
       "    </tr>\n",
       "    <tr>\n",
       "      <th>Male</th>\n",
       "      <td>0.029</td>\n",
       "      <td>0.000</td>\n",
       "    </tr>\n",
       "  </tbody>\n",
       "</table>\n",
       "</div>"
      ],
      "text/plain": [
       "        vegetarian  vegan\n",
       "gender                   \n",
       "Female       0.086  0.014\n",
       "Male         0.029  0.000"
      ]
     },
     "execution_count": 128,
     "metadata": {},
     "output_type": "execute_result"
    }
   ],
   "source": [
    "is_v_by_gender = ma_stratified_df.groupby('gender')['is_vegetarian'].mean().round(3).rename('vegetarian').to_frame()\n",
    "is_v_by_gender['vegan'] = ma_stratified_df.groupby('gender')['is_vegan'].mean().round(3)\n",
    "is_v_by_gender"
   ]
  },
  {
   "cell_type": "code",
   "execution_count": 129,
   "id": "35e13814",
   "metadata": {},
   "outputs": [
    {
     "data": {
      "text/html": [
       "<div>\n",
       "<style scoped>\n",
       "    .dataframe tbody tr th:only-of-type {\n",
       "        vertical-align: middle;\n",
       "    }\n",
       "\n",
       "    .dataframe tbody tr th {\n",
       "        vertical-align: top;\n",
       "    }\n",
       "\n",
       "    .dataframe thead th {\n",
       "        text-align: right;\n",
       "    }\n",
       "</style>\n",
       "<table border=\"1\" class=\"dataframe\">\n",
       "  <thead>\n",
       "    <tr style=\"text-align: right;\">\n",
       "      <th></th>\n",
       "      <th>vegetarian</th>\n",
       "      <th>vegan</th>\n",
       "    </tr>\n",
       "    <tr>\n",
       "      <th>Q_politics</th>\n",
       "      <th></th>\n",
       "      <th></th>\n",
       "    </tr>\n",
       "  </thead>\n",
       "  <tbody>\n",
       "    <tr>\n",
       "      <th>Strongly Democratic</th>\n",
       "      <td>0.049</td>\n",
       "      <td>0.012</td>\n",
       "    </tr>\n",
       "    <tr>\n",
       "      <th>Democratic</th>\n",
       "      <td>0.086</td>\n",
       "      <td>0.016</td>\n",
       "    </tr>\n",
       "    <tr>\n",
       "      <th>Lean Democratic</th>\n",
       "      <td>0.057</td>\n",
       "      <td>0.000</td>\n",
       "    </tr>\n",
       "    <tr>\n",
       "      <th>Lean Republican</th>\n",
       "      <td>0.065</td>\n",
       "      <td>0.000</td>\n",
       "    </tr>\n",
       "    <tr>\n",
       "      <th>Republican</th>\n",
       "      <td>0.000</td>\n",
       "      <td>0.000</td>\n",
       "    </tr>\n",
       "    <tr>\n",
       "      <th>Strongly Republican</th>\n",
       "      <td>0.000</td>\n",
       "      <td>0.000</td>\n",
       "    </tr>\n",
       "  </tbody>\n",
       "</table>\n",
       "</div>"
      ],
      "text/plain": [
       "                     vegetarian  vegan\n",
       "Q_politics                            \n",
       "Strongly Democratic       0.049  0.012\n",
       "Democratic                0.086  0.016\n",
       "Lean Democratic           0.057  0.000\n",
       "Lean Republican           0.065  0.000\n",
       "Republican                0.000  0.000\n",
       "Strongly Republican       0.000  0.000"
      ]
     },
     "execution_count": 129,
     "metadata": {},
     "output_type": "execute_result"
    }
   ],
   "source": [
    "is_v_by_politics = ma_stratified_df.groupby('Q_politics')['is_vegetarian'].mean().round(3).rename('vegetarian').to_frame()\n",
    "is_v_by_politics['vegan'] = ma_stratified_df.groupby('Q_politics')['is_vegan'].mean().round(3)\n",
    "is_v_by_politics.rename(codebook['Q_politics']['choices'])"
   ]
  },
  {
   "cell_type": "markdown",
   "id": "5f491ada",
   "metadata": {},
   "source": [
    "### Other"
   ]
  },
  {
   "cell_type": "code",
   "execution_count": 131,
   "id": "366fcd68",
   "metadata": {},
   "outputs": [
    {
     "name": "stdout",
     "output_type": "stream",
     "text": [
      "How strongly do you agree with the following statement?\n",
      "\"Vegetarian and vegan dishes are good for the environment.\"\n",
      "\n",
      "Strongly agree       0.245831\n",
      "Agree                0.512026\n",
      "Neutral              0.196325\n",
      "Disagree             0.030065\n",
      "Strongly disagree    0.015753\n",
      "Name: Q_good_for_env, dtype: float64\n"
     ]
    },
    {
     "data": {
      "image/png": "[encoded data removed]",
      "text/plain": [
       "<Figure size 500x300 with 1 Axes>"
      ]
     },
     "metadata": {
      "needs_background": "light"
     },
     "output_type": "display_data"
    }
   ],
   "source": [
    "print('%s\\n'%codebook['Q_good_for_env']['Q'])\n",
    "fig,ax = plt.subplots(1,1,figsize=(5,3),dpi=100)\n",
    "(ma_stratified_df['Q_good_for_env'].value_counts().sort_index().rename(\n",
    "    codebook['Q_good_for_env']['choices']\n",
    ")/len(ma_stratified_df)).plot.barh()\n",
    "plt.xlabel('fraction of population')\n",
    "print(ma_stratified_df['Q_good_for_env'].value_counts().sort_index().rename(\n",
    "    codebook['Q_good_for_env']['choices']\n",
    ")/len(ma_stratified_df))"
   ]
  },
  {
   "cell_type": "code",
   "execution_count": null,
   "id": "ea6ce4a5",
   "metadata": {},
   "outputs": [],
   "source": []
  }
 ],
 "metadata": {
  "kernelspec": {
   "display_name": "venv-ff",
   "language": "python",
   "name": "venv-ff"
  },
  "language_info": {
   "codemirror_mode": {
    "name": "ipython",
    "version": 3
   },
   "file_extension": ".py",
   "mimetype": "text/x-python",
   "name": "python",
   "nbconvert_exporter": "python",
   "pygments_lexer": "ipython3",
   "version": "3.7.1"
  }
 },
 "nbformat": 4,
 "nbformat_minor": 5
}
