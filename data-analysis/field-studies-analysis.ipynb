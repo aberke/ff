{
 "cells": [
  {
   "cell_type": "code",
   "execution_count": 11,
   "id": "51dd9f17",
   "metadata": {},
   "outputs": [],
   "source": [
    "import matplotlib.pyplot as plt\n",
    "import numpy as np\n",
    "import pandas as pd\n",
    "import scipy\n",
    "import statsmodels.formula.api as smf"
   ]
  },
  {
   "cell_type": "markdown",
   "id": "fc018035",
   "metadata": {},
   "source": [
    "Transform the collected study data into tables for each study:\n",
    "    \n",
    " ```\n",
    " choice, labeled\n",
    " ```\n",
    " Where\n",
    " - choice is recoded as a boolean: vegan=1; vegetarian=0;\n",
    " - labeled is recoded as a boolean indicating whether respondent saw the \"labeled\" or \"unlabeled\" version: labeled=1; unlabeled=0;"
   ]
  },
  {
   "cell_type": "code",
   "execution_count": 12,
   "id": "53ec8e7a",
   "metadata": {},
   "outputs": [],
   "source": [
    "def make_contingency_df(df):\n",
    "    \"\"\"\n",
    "    Make tables like:\n",
    "    ```\n",
    "    choice, labeled, unlabeled, (%) labeled, (%) unlabeled, expected (based on unlabeled)\n",
    "    0    A           B\n",
    "    1    C           D\n",
    "    total\n",
    "    ```\n",
    "    \"\"\"\n",
    "    contingency_df = pd.DataFrame({\n",
    "        'labeled': df[df['labeled']==1]['choice'].value_counts(),\n",
    "        'unlabeled': df[df['labeled']==0]['choice'].value_counts(),\n",
    "    }, index=[0, 1]).rename_axis('choice').fillna(0)\n",
    "    contingency_df.loc['total'] = [contingency_df[c].sum() for c in contingency_df.columns]\n",
    "    for l in ['labeled', 'unlabeled']:\n",
    "        contingency_df['%% %s'%l] = contingency_df[l]/contingency_df[l]['total']\n",
    "    contingency_df['expected'] = (\n",
    "        contingency_df['labeled']['total'] * contingency_df['% unlabeled']\n",
    "    )\n",
    "    return contingency_df"
   ]
  },
  {
   "cell_type": "code",
   "execution_count": 13,
   "id": "b4aedd7d",
   "metadata": {},
   "outputs": [],
   "source": [
    "def plot_contingency_table(df, ax, legend_labels=['option 2','option 1'], ylabel=True, legend=True):\n",
    "    n_labels_values = df.loc['total'][['labeled', 'unlabeled']]\n",
    "    labels = ['%s\\n(n=%s)'%(l, int(n)) for l, n in n_labels_values.iteritems()]\n",
    "    #labels = ['labeled', 'unlabeled'] # a simpler labeling\n",
    "    option1_values = 100*df[['% labeled', '% unlabeled']].loc[1]\n",
    "    option2_values = 100*df[['% labeled', '% unlabeled']].loc[0]\n",
    "\n",
    "    x = np.arange(len(labels))  # the label locations\n",
    "    width = 0.45  # the width of the bars\n",
    "    rects1 = ax.bar(x - width/2, option1_values, width, \n",
    "                    linewidth=1, edgecolor='black',\n",
    "                    color='lightgray', label=legend_labels[1])\n",
    "    rects2 = ax.bar(x + width/2, option2_values, width, \n",
    "                    linewidth=1, edgecolor='black',\n",
    "                    color='white', label=legend_labels[0])\n",
    "    ax.set_ylim(0, 108)\n",
    "    if ylabel: ax.set_ylabel('% chosen')\n",
    "    ax.set_xticks(x, labels)\n",
    "    option1_labels = ['%0.1f%%'%v for v in round(option1_values, 1)]\n",
    "    option2_labels = ['%0.1f%%'%v for v in round(option2_values, 1)]\n",
    "    ax.bar_label(rects1, option1_labels, padding=3)\n",
    "    ax.bar_label(rects2, option2_labels, padding=3)\n",
    "    if legend: ax.legend()"
   ]
  },
  {
   "cell_type": "markdown",
   "id": "5cf7337e",
   "metadata": {},
   "source": [
    "## Study 1"
   ]
  },
  {
   "cell_type": "code",
   "execution_count": 14,
   "id": "541fa916",
   "metadata": {},
   "outputs": [
    {
     "name": "stdout",
     "output_type": "stream",
     "text": [
      "study 1: 53 total choices\n"
     ]
    },
    {
     "data": {
      "text/html": [
       "<div>\n",
       "<style scoped>\n",
       "    .dataframe tbody tr th:only-of-type {\n",
       "        vertical-align: middle;\n",
       "    }\n",
       "\n",
       "    .dataframe tbody tr th {\n",
       "        vertical-align: top;\n",
       "    }\n",
       "\n",
       "    .dataframe thead th {\n",
       "        text-align: right;\n",
       "    }\n",
       "</style>\n",
       "<table border=\"1\" class=\"dataframe\">\n",
       "  <thead>\n",
       "    <tr style=\"text-align: right;\">\n",
       "      <th></th>\n",
       "      <th>Timestamp</th>\n",
       "      <th>Are you...</th>\n",
       "      <th>Dinner will be served at this event. Please select the meal that you would like ordered for you.</th>\n",
       "      <th>labeled</th>\n",
       "      <th>event</th>\n",
       "      <th>choice</th>\n",
       "    </tr>\n",
       "  </thead>\n",
       "  <tbody>\n",
       "    <tr>\n",
       "      <th>0</th>\n",
       "      <td>3/29/2022 17:55:49</td>\n",
       "      <td>RA</td>\n",
       "      <td>Veggie Hummus Wrap (vegan): Hummus, greens, to...</td>\n",
       "      <td>labeled</td>\n",
       "      <td>1</td>\n",
       "      <td>vegan</td>\n",
       "    </tr>\n",
       "    <tr>\n",
       "      <th>1</th>\n",
       "      <td>3/29/2022 17:57:39</td>\n",
       "      <td>RA</td>\n",
       "      <td>Greek Salad Wrap: Tomato, red onion, cucumbers...</td>\n",
       "      <td>labeled</td>\n",
       "      <td>1</td>\n",
       "      <td>vegetarian</td>\n",
       "    </tr>\n",
       "    <tr>\n",
       "      <th>2</th>\n",
       "      <td>3/29/2022 18:11:50</td>\n",
       "      <td>RA</td>\n",
       "      <td>Veggie Hummus Wrap (vegan): Hummus, greens, to...</td>\n",
       "      <td>labeled</td>\n",
       "      <td>1</td>\n",
       "      <td>vegan</td>\n",
       "    </tr>\n",
       "  </tbody>\n",
       "</table>\n",
       "</div>"
      ],
      "text/plain": [
       "            Timestamp Are you...  \\\n",
       "0  3/29/2022 17:55:49         RA   \n",
       "1  3/29/2022 17:57:39         RA   \n",
       "2  3/29/2022 18:11:50         RA   \n",
       "\n",
       "  Dinner will be served at this event. Please select the meal that you would like ordered for you.  \\\n",
       "0  Veggie Hummus Wrap (vegan): Hummus, greens, to...                                                 \n",
       "1  Greek Salad Wrap: Tomato, red onion, cucumbers...                                                 \n",
       "2  Veggie Hummus Wrap (vegan): Hummus, greens, to...                                                 \n",
       "\n",
       "   labeled  event      choice  \n",
       "0  labeled      1       vegan  \n",
       "1  labeled      1  vegetarian  \n",
       "2  labeled      1       vegan  "
      ]
     },
     "execution_count": 14,
     "metadata": {},
     "output_type": "execute_result"
    }
   ],
   "source": [
    "study1_df = survey_df = pd.read_csv(\n",
    "    '../data/spring-2022-mas-research-talks-responses-aggregated.csv',\n",
    "    usecols=[0,1,2,3,4,5]\n",
    ")\n",
    "print('study 1: %s total choices' % len(study1_df))\n",
    "study1_df.head(3)"
   ]
  },
  {
   "cell_type": "markdown",
   "id": "6588d169",
   "metadata": {},
   "source": [
    "Found an error earlier caused by extra whitespace. Trim!"
   ]
  },
  {
   "cell_type": "code",
   "execution_count": 41,
   "id": "981c528a",
   "metadata": {},
   "outputs": [],
   "source": [
    "study1_df['labeled'] = study1_df['labeled'].apply(lambda s: s.strip())\n",
    "study1_df['choice'] = study1_df['choice'].apply(lambda s: s.strip())"
   ]
  },
  {
   "cell_type": "code",
   "execution_count": 42,
   "id": "52ffdc92",
   "metadata": {},
   "outputs": [
    {
     "data": {
      "text/html": [
       "<div>\n",
       "<style scoped>\n",
       "    .dataframe tbody tr th:only-of-type {\n",
       "        vertical-align: middle;\n",
       "    }\n",
       "\n",
       "    .dataframe tbody tr th {\n",
       "        vertical-align: top;\n",
       "    }\n",
       "\n",
       "    .dataframe thead th {\n",
       "        text-align: right;\n",
       "    }\n",
       "</style>\n",
       "<table border=\"1\" class=\"dataframe\">\n",
       "  <thead>\n",
       "    <tr style=\"text-align: right;\">\n",
       "      <th></th>\n",
       "      <th></th>\n",
       "      <th></th>\n",
       "      <th>count</th>\n",
       "    </tr>\n",
       "    <tr>\n",
       "      <th>event</th>\n",
       "      <th>labeled</th>\n",
       "      <th>choice</th>\n",
       "      <th></th>\n",
       "    </tr>\n",
       "  </thead>\n",
       "  <tbody>\n",
       "    <tr>\n",
       "      <th rowspan=\"4\" valign=\"top\">1</th>\n",
       "      <th rowspan=\"2\" valign=\"top\">labeled</th>\n",
       "      <th>vegan</th>\n",
       "      <td>6</td>\n",
       "    </tr>\n",
       "    <tr>\n",
       "      <th>vegetarian</th>\n",
       "      <td>10</td>\n",
       "    </tr>\n",
       "    <tr>\n",
       "      <th rowspan=\"2\" valign=\"top\">unlabeled</th>\n",
       "      <th>vegan</th>\n",
       "      <td>7</td>\n",
       "    </tr>\n",
       "    <tr>\n",
       "      <th>vegetarian</th>\n",
       "      <td>7</td>\n",
       "    </tr>\n",
       "    <tr>\n",
       "      <th rowspan=\"4\" valign=\"top\">3</th>\n",
       "      <th rowspan=\"2\" valign=\"top\">labeled</th>\n",
       "      <th>vegan</th>\n",
       "      <td>2</td>\n",
       "    </tr>\n",
       "    <tr>\n",
       "      <th>vegetarian</th>\n",
       "      <td>1</td>\n",
       "    </tr>\n",
       "    <tr>\n",
       "      <th rowspan=\"2\" valign=\"top\">unlabeled</th>\n",
       "      <th>vegan</th>\n",
       "      <td>2</td>\n",
       "    </tr>\n",
       "    <tr>\n",
       "      <th>vegetarian</th>\n",
       "      <td>3</td>\n",
       "    </tr>\n",
       "    <tr>\n",
       "      <th rowspan=\"4\" valign=\"top\">4</th>\n",
       "      <th rowspan=\"2\" valign=\"top\">labeled</th>\n",
       "      <th>vegan</th>\n",
       "      <td>1</td>\n",
       "    </tr>\n",
       "    <tr>\n",
       "      <th>vegetarian</th>\n",
       "      <td>4</td>\n",
       "    </tr>\n",
       "    <tr>\n",
       "      <th rowspan=\"2\" valign=\"top\">unlabeled</th>\n",
       "      <th>vegan</th>\n",
       "      <td>5</td>\n",
       "    </tr>\n",
       "    <tr>\n",
       "      <th>vegetarian</th>\n",
       "      <td>1</td>\n",
       "    </tr>\n",
       "    <tr>\n",
       "      <th rowspan=\"2\" valign=\"top\">5</th>\n",
       "      <th>labeled</th>\n",
       "      <th>vegetarian</th>\n",
       "      <td>1</td>\n",
       "    </tr>\n",
       "    <tr>\n",
       "      <th>unlabeled</th>\n",
       "      <th>vegan</th>\n",
       "      <td>3</td>\n",
       "    </tr>\n",
       "  </tbody>\n",
       "</table>\n",
       "</div>"
      ],
      "text/plain": [
       "                            count\n",
       "event labeled   choice           \n",
       "1     labeled   vegan           6\n",
       "                vegetarian     10\n",
       "      unlabeled vegan           7\n",
       "                vegetarian      7\n",
       "3     labeled   vegan           2\n",
       "                vegetarian      1\n",
       "      unlabeled vegan           2\n",
       "                vegetarian      3\n",
       "4     labeled   vegan           1\n",
       "                vegetarian      4\n",
       "      unlabeled vegan           5\n",
       "                vegetarian      1\n",
       "5     labeled   vegetarian      1\n",
       "      unlabeled vegan           3"
      ]
     },
     "metadata": {},
     "output_type": "display_data"
    },
    {
     "name": "stdout",
     "output_type": "stream",
     "text": [
      "53\n"
     ]
    }
   ],
   "source": [
    "study1_grouped_df = study1_df.groupby(['event','labeled','choice'])['Timestamp'].count().rename('count').to_frame()\n",
    "display(study1_grouped_df)\n",
    "print(study1_grouped_df['count'].sum())"
   ]
  },
  {
   "cell_type": "code",
   "execution_count": 43,
   "id": "fc8f9238",
   "metadata": {},
   "outputs": [
    {
     "data": {
      "text/html": [
       "<div>\n",
       "<style scoped>\n",
       "    .dataframe tbody tr th:only-of-type {\n",
       "        vertical-align: middle;\n",
       "    }\n",
       "\n",
       "    .dataframe tbody tr th {\n",
       "        vertical-align: top;\n",
       "    }\n",
       "\n",
       "    .dataframe thead th {\n",
       "        text-align: right;\n",
       "    }\n",
       "</style>\n",
       "<table border=\"1\" class=\"dataframe\">\n",
       "  <thead>\n",
       "    <tr style=\"text-align: right;\">\n",
       "      <th></th>\n",
       "      <th></th>\n",
       "      <th>count</th>\n",
       "    </tr>\n",
       "    <tr>\n",
       "      <th>labeled</th>\n",
       "      <th>choice</th>\n",
       "      <th></th>\n",
       "    </tr>\n",
       "  </thead>\n",
       "  <tbody>\n",
       "    <tr>\n",
       "      <th rowspan=\"2\" valign=\"top\">labeled</th>\n",
       "      <th>vegan</th>\n",
       "      <td>9</td>\n",
       "    </tr>\n",
       "    <tr>\n",
       "      <th>vegetarian</th>\n",
       "      <td>16</td>\n",
       "    </tr>\n",
       "    <tr>\n",
       "      <th rowspan=\"2\" valign=\"top\">unlabeled</th>\n",
       "      <th>vegan</th>\n",
       "      <td>17</td>\n",
       "    </tr>\n",
       "    <tr>\n",
       "      <th>vegetarian</th>\n",
       "      <td>11</td>\n",
       "    </tr>\n",
       "  </tbody>\n",
       "</table>\n",
       "</div>"
      ],
      "text/plain": [
       "                      count\n",
       "labeled   choice           \n",
       "labeled   vegan           9\n",
       "          vegetarian     16\n",
       "unlabeled vegan          17\n",
       "          vegetarian     11"
      ]
     },
     "execution_count": 43,
     "metadata": {},
     "output_type": "execute_result"
    }
   ],
   "source": [
    "study1_totals_df = study1_df.groupby(['labeled','choice'])['Timestamp'].count().rename('count').to_frame()\n",
    "study1_totals_df"
   ]
  },
  {
   "cell_type": "code",
   "execution_count": 44,
   "id": "ce3df47d",
   "metadata": {},
   "outputs": [
    {
     "data": {
      "text/html": [
       "<div>\n",
       "<style scoped>\n",
       "    .dataframe tbody tr th:only-of-type {\n",
       "        vertical-align: middle;\n",
       "    }\n",
       "\n",
       "    .dataframe tbody tr th {\n",
       "        vertical-align: top;\n",
       "    }\n",
       "\n",
       "    .dataframe thead th {\n",
       "        text-align: right;\n",
       "    }\n",
       "</style>\n",
       "<table border=\"1\" class=\"dataframe\">\n",
       "  <thead>\n",
       "    <tr style=\"text-align: right;\">\n",
       "      <th></th>\n",
       "      <th>choice</th>\n",
       "      <th>labeled</th>\n",
       "      <th>event</th>\n",
       "    </tr>\n",
       "  </thead>\n",
       "  <tbody>\n",
       "    <tr>\n",
       "      <th>0</th>\n",
       "      <td>1</td>\n",
       "      <td>1</td>\n",
       "      <td>1</td>\n",
       "    </tr>\n",
       "    <tr>\n",
       "      <th>1</th>\n",
       "      <td>0</td>\n",
       "      <td>1</td>\n",
       "      <td>1</td>\n",
       "    </tr>\n",
       "    <tr>\n",
       "      <th>2</th>\n",
       "      <td>1</td>\n",
       "      <td>1</td>\n",
       "      <td>1</td>\n",
       "    </tr>\n",
       "  </tbody>\n",
       "</table>\n",
       "</div>"
      ],
      "text/plain": [
       "   choice  labeled  event\n",
       "0       1        1      1\n",
       "1       0        1      1\n",
       "2       1        1      1"
      ]
     },
     "execution_count": 44,
     "metadata": {},
     "output_type": "execute_result"
    }
   ],
   "source": [
    "study1_df['choice'] = study1_df['choice'].apply(lambda c: 1 if c=='vegan' else 0)\n",
    "study1_df['labeled'] =study1_df['labeled'].apply(lambda l: 1 if l=='labeled' else 0) \n",
    "study1_df = study1_df[['choice','labeled', 'event']]\n",
    "assert(53 == len(study1_df))\n",
    "study1_df.head(3)"
   ]
  },
  {
   "cell_type": "code",
   "execution_count": 45,
   "id": "7f669a5a",
   "metadata": {},
   "outputs": [
    {
     "name": "stdout",
     "output_type": "stream",
     "text": [
      "chisq = 6.40; p=0.011\n"
     ]
    },
    {
     "data": {
      "text/html": [
       "<div>\n",
       "<style scoped>\n",
       "    .dataframe tbody tr th:only-of-type {\n",
       "        vertical-align: middle;\n",
       "    }\n",
       "\n",
       "    .dataframe tbody tr th {\n",
       "        vertical-align: top;\n",
       "    }\n",
       "\n",
       "    .dataframe thead th {\n",
       "        text-align: right;\n",
       "    }\n",
       "</style>\n",
       "<table border=\"1\" class=\"dataframe\">\n",
       "  <thead>\n",
       "    <tr style=\"text-align: right;\">\n",
       "      <th></th>\n",
       "      <th>labeled</th>\n",
       "      <th>unlabeled</th>\n",
       "      <th>% labeled</th>\n",
       "      <th>% unlabeled</th>\n",
       "      <th>expected</th>\n",
       "    </tr>\n",
       "    <tr>\n",
       "      <th>choice</th>\n",
       "      <th></th>\n",
       "      <th></th>\n",
       "      <th></th>\n",
       "      <th></th>\n",
       "      <th></th>\n",
       "    </tr>\n",
       "  </thead>\n",
       "  <tbody>\n",
       "    <tr>\n",
       "      <th>0</th>\n",
       "      <td>16</td>\n",
       "      <td>11</td>\n",
       "      <td>0.64</td>\n",
       "      <td>0.392857</td>\n",
       "      <td>9.821429</td>\n",
       "    </tr>\n",
       "    <tr>\n",
       "      <th>1</th>\n",
       "      <td>9</td>\n",
       "      <td>17</td>\n",
       "      <td>0.36</td>\n",
       "      <td>0.607143</td>\n",
       "      <td>15.178571</td>\n",
       "    </tr>\n",
       "    <tr>\n",
       "      <th>total</th>\n",
       "      <td>25</td>\n",
       "      <td>28</td>\n",
       "      <td>1.00</td>\n",
       "      <td>1.000000</td>\n",
       "      <td>25.000000</td>\n",
       "    </tr>\n",
       "  </tbody>\n",
       "</table>\n",
       "</div>"
      ],
      "text/plain": [
       "        labeled  unlabeled  % labeled  % unlabeled   expected\n",
       "choice                                                       \n",
       "0            16         11       0.64     0.392857   9.821429\n",
       "1             9         17       0.36     0.607143  15.178571\n",
       "total        25         28       1.00     1.000000  25.000000"
      ]
     },
     "execution_count": 45,
     "metadata": {},
     "output_type": "execute_result"
    },
    {
     "data": {
      "image/png": "[encoded data removed]",
      "text/plain": [
       "<Figure size 1200x900 with 1 Axes>"
      ]
     },
     "metadata": {
      "needs_background": "light"
     },
     "output_type": "display_data"
    }
   ],
   "source": [
    "contingency1_df = make_contingency_df(study1_df)\n",
    "figsize=(4,3)\n",
    "fig,ax = plt.subplots(figsize=figsize, dpi=300)\n",
    "plot_contingency_table(contingency1_df, ax, legend_labels=['option 2', '(vegan) option 1'])\n",
    "chisq, p = scipy.stats.chisquare(\n",
    "    contingency1_df['labeled'].drop('total'), \n",
    "    contingency1_df['expected'].drop('total')\n",
    ")\n",
    "print('chisq = %0.2f; p=%.3f' % (chisq, p))\n",
    "ax.set_title('Field study 1')\n",
    "contingency1_df"
   ]
  },
  {
   "cell_type": "code",
   "execution_count": 46,
   "id": "4dc52b0e",
   "metadata": {},
   "outputs": [
    {
     "name": "stdout",
     "output_type": "stream",
     "text": [
      "Optimization terminated successfully.\n",
      "         Current function value: 0.662183\n",
      "         Iterations 4\n",
      "                           Logit Regression Results                           \n",
      "==============================================================================\n",
      "Dep. Variable:                 choice   No. Observations:                   53\n",
      "Model:                          Logit   Df Residuals:                       51\n",
      "Method:                           MLE   Df Model:                            1\n",
      "Date:                Mon, 05 Dec 2022   Pseudo R-squ.:                 0.04443\n",
      "Time:                        12:54:15   Log-Likelihood:                -35.096\n",
      "converged:                       True   LL-Null:                       -36.727\n",
      "Covariance Type:            nonrobust   LLR p-value:                   0.07085\n",
      "==============================================================================\n",
      "                 coef    std err          z      P>|z|      [0.025      0.975]\n",
      "------------------------------------------------------------------------------\n",
      "Intercept      0.4353      0.387      1.125      0.261      -0.323       1.194\n",
      "labeled       -1.0107      0.569     -1.777      0.076      -2.125       0.104\n",
      "==============================================================================\n",
      "                 OR   z-value      2.5%     97.5%\n",
      "Intercept  1.545455  0.260593  0.723904  3.299372\n",
      "labeled    0.363971  0.075504  0.119411  1.109399\n"
     ]
    }
   ],
   "source": [
    "model1 = smf.logit(\"choice ~ labeled\", data=study1_df).fit()\n",
    "print(model1.summary())\n",
    "model1_odds = pd.DataFrame(np.exp(model1.params), columns=['OR'])\n",
    "model1_odds['z-value'] = model1.pvalues\n",
    "model1_odds[['2.5%', '97.5%']] = np.exp(model1.conf_int())\n",
    "print(model1_odds)"
   ]
  },
  {
   "cell_type": "markdown",
   "id": "160a791d",
   "metadata": {},
   "source": [
    "## Study 2"
   ]
  },
  {
   "cell_type": "code",
   "execution_count": 47,
   "id": "fa8f62f9",
   "metadata": {},
   "outputs": [
    {
     "name": "stdout",
     "output_type": "stream",
     "text": [
      "study 2: 103 total choices\n"
     ]
    },
    {
     "data": {
      "text/html": [
       "<div>\n",
       "<style scoped>\n",
       "    .dataframe tbody tr th:only-of-type {\n",
       "        vertical-align: middle;\n",
       "    }\n",
       "\n",
       "    .dataframe tbody tr th {\n",
       "        vertical-align: top;\n",
       "    }\n",
       "\n",
       "    .dataframe thead th {\n",
       "        text-align: right;\n",
       "    }\n",
       "</style>\n",
       "<table border=\"1\" class=\"dataframe\">\n",
       "  <thead>\n",
       "    <tr style=\"text-align: right;\">\n",
       "      <th></th>\n",
       "      <th>Timestamp</th>\n",
       "      <th>Are you...</th>\n",
       "      <th>We will order family style, with pasta dishes, gluten-free sides and salads, and treats. Please select your preferred pasta entree.</th>\n",
       "      <th>labeled</th>\n",
       "      <th>choice</th>\n",
       "      <th>vegan</th>\n",
       "      <th>vegetarian</th>\n",
       "    </tr>\n",
       "  </thead>\n",
       "  <tbody>\n",
       "    <tr>\n",
       "      <th>0</th>\n",
       "      <td>6/28/2022 16:34:52</td>\n",
       "      <td>Staff</td>\n",
       "      <td>Mushroom Linguine (vegan). With broccoli rabe ...</td>\n",
       "      <td>labeled</td>\n",
       "      <td>1</td>\n",
       "      <td>0</td>\n",
       "      <td>0</td>\n",
       "    </tr>\n",
       "    <tr>\n",
       "      <th>1</th>\n",
       "      <td>6/28/2022 16:34:55</td>\n",
       "      <td>RA</td>\n",
       "      <td>Cheese Ravioli. With baby arugula, parmesan, g...</td>\n",
       "      <td>labeled</td>\n",
       "      <td>2</td>\n",
       "      <td>0</td>\n",
       "      <td>0</td>\n",
       "    </tr>\n",
       "    <tr>\n",
       "      <th>2</th>\n",
       "      <td>6/28/2022 16:35:52</td>\n",
       "      <td>UROP</td>\n",
       "      <td>Cheese Ravioli. With baby arugula, parmesan, g...</td>\n",
       "      <td>labeled</td>\n",
       "      <td>2</td>\n",
       "      <td>0</td>\n",
       "      <td>0</td>\n",
       "    </tr>\n",
       "  </tbody>\n",
       "</table>\n",
       "</div>"
      ],
      "text/plain": [
       "            Timestamp Are you...  \\\n",
       "0  6/28/2022 16:34:52      Staff   \n",
       "1  6/28/2022 16:34:55         RA   \n",
       "2  6/28/2022 16:35:52       UROP   \n",
       "\n",
       "  We will order family style, with pasta dishes, gluten-free sides and salads, and treats. Please select your preferred pasta entree.   \\\n",
       "0  Mushroom Linguine (vegan). With broccoli rabe ...                                                                                     \n",
       "1  Cheese Ravioli. With baby arugula, parmesan, g...                                                                                     \n",
       "2  Cheese Ravioli. With baby arugula, parmesan, g...                                                                                     \n",
       "\n",
       "   labeled  choice  vegan  vegetarian  \n",
       "0  labeled       1      0           0  \n",
       "1  labeled       2      0           0  \n",
       "2  labeled       2      0           0  "
      ]
     },
     "execution_count": 47,
     "metadata": {},
     "output_type": "execute_result"
    }
   ],
   "source": [
    "study2_df = survey_df = pd.read_csv(\n",
    "    '../data/july-2022-lab-lunch-responses-aggregated.csv',\n",
    "    usecols=[0,1,2,4,5,6,7]\n",
    ")\n",
    "print('study 2: %s total choices' % study2_df['choice'].value_counts().sum())\n",
    "study2_df.head(3)"
   ]
  },
  {
   "cell_type": "markdown",
   "id": "e9046694",
   "metadata": {},
   "source": [
    "Transform choice coding to:\n",
    "- 1=vegan (no change)\n",
    "- 0=other (choice 2)"
   ]
  },
  {
   "cell_type": "code",
   "execution_count": 76,
   "id": "56aec5f8",
   "metadata": {},
   "outputs": [
    {
     "data": {
      "text/html": [
       "<div>\n",
       "<style scoped>\n",
       "    .dataframe tbody tr th:only-of-type {\n",
       "        vertical-align: middle;\n",
       "    }\n",
       "\n",
       "    .dataframe tbody tr th {\n",
       "        vertical-align: top;\n",
       "    }\n",
       "\n",
       "    .dataframe thead th {\n",
       "        text-align: right;\n",
       "    }\n",
       "</style>\n",
       "<table border=\"1\" class=\"dataframe\">\n",
       "  <thead>\n",
       "    <tr style=\"text-align: right;\">\n",
       "      <th></th>\n",
       "      <th>choice</th>\n",
       "      <th>labeled</th>\n",
       "    </tr>\n",
       "  </thead>\n",
       "  <tbody>\n",
       "    <tr>\n",
       "      <th>0</th>\n",
       "      <td>1</td>\n",
       "      <td>1</td>\n",
       "    </tr>\n",
       "    <tr>\n",
       "      <th>1</th>\n",
       "      <td>0</td>\n",
       "      <td>1</td>\n",
       "    </tr>\n",
       "    <tr>\n",
       "      <th>2</th>\n",
       "      <td>0</td>\n",
       "      <td>1</td>\n",
       "    </tr>\n",
       "  </tbody>\n",
       "</table>\n",
       "</div>"
      ],
      "text/plain": [
       "   choice  labeled\n",
       "0       1        1\n",
       "1       0        1\n",
       "2       0        1"
      ]
     },
     "execution_count": 76,
     "metadata": {},
     "output_type": "execute_result"
    }
   ],
   "source": [
    "study2_df['choice'] = study2_df['choice'].apply(lambda c: 1 if c==1 else 0)\n",
    "study2_df['labeled'] =study2_df['labeled'].apply(lambda l: 1 if l=='labeled' else 0) \n",
    "study2_df = study2_df[['choice','labeled']]\n",
    "assert(103 == len(study2_df))\n",
    "study2_df.head(3)"
   ]
  },
  {
   "cell_type": "code",
   "execution_count": 82,
   "id": "bd339f8b",
   "metadata": {},
   "outputs": [
    {
     "name": "stdout",
     "output_type": "stream",
     "text": [
      "chisq = 21.69; p=0.000\n"
     ]
    },
    {
     "data": {
      "text/html": [
       "<div>\n",
       "<style scoped>\n",
       "    .dataframe tbody tr th:only-of-type {\n",
       "        vertical-align: middle;\n",
       "    }\n",
       "\n",
       "    .dataframe tbody tr th {\n",
       "        vertical-align: top;\n",
       "    }\n",
       "\n",
       "    .dataframe thead th {\n",
       "        text-align: right;\n",
       "    }\n",
       "</style>\n",
       "<table border=\"1\" class=\"dataframe\">\n",
       "  <thead>\n",
       "    <tr style=\"text-align: right;\">\n",
       "      <th></th>\n",
       "      <th>labeled</th>\n",
       "      <th>unlabeled</th>\n",
       "      <th>% labeled</th>\n",
       "      <th>% unlabeled</th>\n",
       "      <th>expected</th>\n",
       "    </tr>\n",
       "    <tr>\n",
       "      <th>choice</th>\n",
       "      <th></th>\n",
       "      <th></th>\n",
       "      <th></th>\n",
       "      <th></th>\n",
       "      <th></th>\n",
       "    </tr>\n",
       "  </thead>\n",
       "  <tbody>\n",
       "    <tr>\n",
       "      <th>0</th>\n",
       "      <td>37</td>\n",
       "      <td>17</td>\n",
       "      <td>0.660714</td>\n",
       "      <td>0.361702</td>\n",
       "      <td>20.255319</td>\n",
       "    </tr>\n",
       "    <tr>\n",
       "      <th>1</th>\n",
       "      <td>19</td>\n",
       "      <td>30</td>\n",
       "      <td>0.339286</td>\n",
       "      <td>0.638298</td>\n",
       "      <td>35.744681</td>\n",
       "    </tr>\n",
       "    <tr>\n",
       "      <th>total</th>\n",
       "      <td>56</td>\n",
       "      <td>47</td>\n",
       "      <td>1.000000</td>\n",
       "      <td>1.000000</td>\n",
       "      <td>56.000000</td>\n",
       "    </tr>\n",
       "  </tbody>\n",
       "</table>\n",
       "</div>"
      ],
      "text/plain": [
       "        labeled  unlabeled  % labeled  % unlabeled   expected\n",
       "choice                                                       \n",
       "0            37         17   0.660714     0.361702  20.255319\n",
       "1            19         30   0.339286     0.638298  35.744681\n",
       "total        56         47   1.000000     1.000000  56.000000"
      ]
     },
     "execution_count": 82,
     "metadata": {},
     "output_type": "execute_result"
    },
    {
     "data": {
      "image/png": "[encoded data removed]",
      "text/plain": [
       "<Figure size 1200x900 with 1 Axes>"
      ]
     },
     "metadata": {
      "needs_background": "light"
     },
     "output_type": "display_data"
    }
   ],
   "source": [
    "contingency2_df = make_contingency_df(study2_df)\n",
    "figsize=(4,3)\n",
    "fig,ax = plt.subplots(figsize=figsize, dpi=300)\n",
    "plot_contingency_table(contingency2_df, ax, legend_labels=['option 2', '(vegan) option 1'])\n",
    "chisq, p = scipy.stats.chisquare(\n",
    "    contingency2_df['labeled'].drop('total'), \n",
    "    contingency2_df['expected'].drop('total')\n",
    ")\n",
    "print('chisq = %0.2f; p=%.3f' % (chisq, p))\n",
    "ax.set_title('Field study 2')\n",
    "contingency2_df"
   ]
  },
  {
   "cell_type": "code",
   "execution_count": 79,
   "id": "354c5f81",
   "metadata": {},
   "outputs": [
    {
     "name": "stdout",
     "output_type": "stream",
     "text": [
      "Optimization terminated successfully.\n",
      "         Current function value: 0.646872\n",
      "         Iterations 4\n",
      "                           Logit Regression Results                           \n",
      "==============================================================================\n",
      "Dep. Variable:                 choice   No. Observations:                  103\n",
      "Model:                          Logit   Df Residuals:                      101\n",
      "Method:                           MLE   Df Model:                            1\n",
      "Date:                Tue, 16 Aug 2022   Pseudo R-squ.:                 0.06517\n",
      "Time:                        22:27:13   Log-Likelihood:                -66.628\n",
      "converged:                       True   LL-Null:                       -71.273\n",
      "Covariance Type:            nonrobust   LLR p-value:                  0.002304\n",
      "==============================================================================\n",
      "                 coef    std err          z      P>|z|      [0.025      0.975]\n",
      "------------------------------------------------------------------------------\n",
      "Intercept      0.5680      0.304      1.871      0.061      -0.027       1.163\n",
      "labeled       -1.2345      0.415     -2.978      0.003      -2.047      -0.422\n",
      "==============================================================================\n",
      "                 OR   z-value      2.5%     97.5%\n",
      "Intercept  1.764706  0.061346  0.973352  3.199444\n",
      "labeled    0.290991  0.002900  0.129137  0.655704\n"
     ]
    }
   ],
   "source": [
    "model2 = smf.logit(\"choice ~ labeled\", data=study2_df).fit()\n",
    "print(model2.summary())\n",
    "model2_odds = pd.DataFrame(np.exp(model2.params), columns=['OR'])\n",
    "model2_odds['z-value'] = model2.pvalues\n",
    "model2_odds[['2.5%', '97.5%']] = np.exp(model2.conf_int())\n",
    "print(model2_odds)"
   ]
  },
  {
   "cell_type": "markdown",
   "id": "b62536b2",
   "metadata": {},
   "source": [
    "Field study 2 asked participants whether they had dietary restrictions, where they could select vegetarian and/or vegan. \n",
    "What happened here? Did vegans select non-vegan options when the labels were removed?"
   ]
  },
  {
   "cell_type": "code",
   "execution_count": 131,
   "id": "6a095e70",
   "metadata": {},
   "outputs": [
    {
     "name": "stdout",
     "output_type": "stream",
     "text": [
      "18 vegetarians\n",
      "5 vegans\n",
      "0 selected both vegan and vegetarian\n"
     ]
    }
   ],
   "source": [
    "# How many vegans and vegetarians?\n",
    "print('%s vegetarians' % study2_df['vegetarian'].sum())\n",
    "print('%s vegans' % study2_df['vegan'].sum())\n",
    "print('%s selected both vegan and vegetarian' % (study2_df['vegan']+study2_df['vegetarian'] == 2).sum())"
   ]
  },
  {
   "cell_type": "code",
   "execution_count": 132,
   "id": "bef39867",
   "metadata": {},
   "outputs": [
    {
     "data": {
      "text/html": [
       "<div>\n",
       "<style scoped>\n",
       "    .dataframe tbody tr th:only-of-type {\n",
       "        vertical-align: middle;\n",
       "    }\n",
       "\n",
       "    .dataframe tbody tr th {\n",
       "        vertical-align: top;\n",
       "    }\n",
       "\n",
       "    .dataframe thead th {\n",
       "        text-align: right;\n",
       "    }\n",
       "</style>\n",
       "<table border=\"1\" class=\"dataframe\">\n",
       "  <thead>\n",
       "    <tr style=\"text-align: right;\">\n",
       "      <th></th>\n",
       "      <th>Timestamp</th>\n",
       "      <th>Are you...</th>\n",
       "      <th>We will order family style, with pasta dishes, gluten-free sides and salads, and treats. Please select your preferred pasta entree.</th>\n",
       "      <th>labeled</th>\n",
       "      <th>choice</th>\n",
       "      <th>vegan</th>\n",
       "      <th>vegetarian</th>\n",
       "    </tr>\n",
       "  </thead>\n",
       "  <tbody>\n",
       "    <tr>\n",
       "      <th>7</th>\n",
       "      <td>6/28/2022 16:40:01</td>\n",
       "      <td>RA</td>\n",
       "      <td>Mushroom Linguine (vegan). With broccoli rabe ...</td>\n",
       "      <td>labeled</td>\n",
       "      <td>1</td>\n",
       "      <td>1</td>\n",
       "      <td>0</td>\n",
       "    </tr>\n",
       "    <tr>\n",
       "      <th>8</th>\n",
       "      <td>6/28/2022 16:42:43</td>\n",
       "      <td>RA</td>\n",
       "      <td>Mushroom Linguine (vegan). With broccoli rabe ...</td>\n",
       "      <td>labeled</td>\n",
       "      <td>1</td>\n",
       "      <td>1</td>\n",
       "      <td>0</td>\n",
       "    </tr>\n",
       "    <tr>\n",
       "      <th>12</th>\n",
       "      <td>6/28/2022 17:03:48</td>\n",
       "      <td>UROP</td>\n",
       "      <td>Mushroom Linguine (vegan). With broccoli rabe ...</td>\n",
       "      <td>labeled</td>\n",
       "      <td>1</td>\n",
       "      <td>1</td>\n",
       "      <td>0</td>\n",
       "    </tr>\n",
       "    <tr>\n",
       "      <th>91</th>\n",
       "      <td>7/8/2022 14:15:26</td>\n",
       "      <td>Intern</td>\n",
       "      <td>Cheese Ravioli. With baby arugula, parmesan, g...</td>\n",
       "      <td>labeled</td>\n",
       "      <td>2</td>\n",
       "      <td>1</td>\n",
       "      <td>0</td>\n",
       "    </tr>\n",
       "    <tr>\n",
       "      <th>93</th>\n",
       "      <td>7/8/2022 16:06:53</td>\n",
       "      <td>MSRP</td>\n",
       "      <td>Mushroom Linguine (vegan). With broccoli rabe ...</td>\n",
       "      <td>labeled</td>\n",
       "      <td>1</td>\n",
       "      <td>1</td>\n",
       "      <td>0</td>\n",
       "    </tr>\n",
       "  </tbody>\n",
       "</table>\n",
       "</div>"
      ],
      "text/plain": [
       "             Timestamp Are you...  \\\n",
       "7   6/28/2022 16:40:01         RA   \n",
       "8   6/28/2022 16:42:43         RA   \n",
       "12  6/28/2022 17:03:48       UROP   \n",
       "91   7/8/2022 14:15:26     Intern   \n",
       "93   7/8/2022 16:06:53       MSRP   \n",
       "\n",
       "   We will order family style, with pasta dishes, gluten-free sides and salads, and treats. Please select your preferred pasta entree.   \\\n",
       "7   Mushroom Linguine (vegan). With broccoli rabe ...                                                                                     \n",
       "8   Mushroom Linguine (vegan). With broccoli rabe ...                                                                                     \n",
       "12  Mushroom Linguine (vegan). With broccoli rabe ...                                                                                     \n",
       "91  Cheese Ravioli. With baby arugula, parmesan, g...                                                                                     \n",
       "93  Mushroom Linguine (vegan). With broccoli rabe ...                                                                                     \n",
       "\n",
       "    labeled  choice  vegan  vegetarian  \n",
       "7   labeled       1      1           0  \n",
       "8   labeled       1      1           0  \n",
       "12  labeled       1      1           0  \n",
       "91  labeled       2      1           0  \n",
       "93  labeled       1      1           0  "
      ]
     },
     "execution_count": 132,
     "metadata": {},
     "output_type": "execute_result"
    }
   ],
   "source": [
    "study2_vegan_df = study2_df[study2_df['vegan']==1]\n",
    "study2_vegan_df"
   ]
  },
  {
   "cell_type": "markdown",
   "id": "448dc3a1",
   "metadata": {},
   "source": [
    "All of the vegans were in the labeled condition AND one selected the non-vegan option..."
   ]
  },
  {
   "cell_type": "markdown",
   "id": "243e720c",
   "metadata": {},
   "source": [
    "### Calculating the odds ratio (OR) with 95% CIs\n",
    "\n",
    "(Same result as binary logistic regression above)"
   ]
  },
  {
   "cell_type": "code",
   "execution_count": 107,
   "id": "d5155c54",
   "metadata": {},
   "outputs": [],
   "source": [
    "# https://zepid.readthedocs.io/en/latest/Reference/generated/zepid.base.OddsRatio.html\n",
    "from zepid import OddsRatio"
   ]
  },
  {
   "cell_type": "code",
   "execution_count": 120,
   "id": "e91da48e",
   "metadata": {},
   "outputs": [
    {
     "name": "stdout",
     "output_type": "stream",
     "text": [
      "Comparison:0 to 1\n",
      "+-----+-------+-------+\n",
      "|     |   D=1 |   D=0 |\n",
      "+=====+=======+=======+\n",
      "| E=1 |     9 |    15 |\n",
      "+-----+-------+-------+\n",
      "| E=0 |    17 |    12 |\n",
      "+-----+-------+-------+ \n",
      "\n",
      "======================================================================\n",
      "                           Odds Ratio                                 \n",
      "======================================================================\n",
      "       OddsRatio  SD(OR)  OR_LCL  OR_UCL\n",
      "Ref:0      1.000     NaN     NaN     NaN\n",
      "1          0.424   0.566    0.14   1.283\n",
      "----------------------------------------------------------------------\n",
      "Missing E:    0\n",
      "Missing D:    0\n",
      "Missing E&D:  0\n",
      "======================================================================\n"
     ]
    },
    {
     "name": "stderr",
     "output_type": "stream",
     "text": [
      "/Users/aberke/projects/ff/venv-ff/lib/python3.7/site-packages/zepid/base.py:1238: UserWarning: FixedFormatter should only be used together with FixedLocator\n",
      "  ax.set_yticklabels(labels)\n"
     ]
    },
    {
     "data": {
      "image/png": "[encoded data removed]",
      "text/plain": [
       "<Figure size 144x72 with 1 Axes>"
      ]
     },
     "metadata": {
      "needs_background": "light"
     },
     "output_type": "display_data"
    }
   ],
   "source": [
    "# Note this does not indicate statistical significance, since OR 95% CI spans 1.\n",
    "ort1 = OddsRatio()\n",
    "ort1.fit(study1_df, exposure='labeled',outcome='choice')\n",
    "fig,ax = plt.subplots(figsize=(2,1))\n",
    "_ = ort1.plot()\n",
    "ort1.summary()"
   ]
  },
  {
   "cell_type": "code",
   "execution_count": 119,
   "id": "38e8be20",
   "metadata": {},
   "outputs": [
    {
     "name": "stderr",
     "output_type": "stream",
     "text": [
      "/Users/aberke/projects/ff/venv-ff/lib/python3.7/site-packages/zepid/base.py:1238: UserWarning: FixedFormatter should only be used together with FixedLocator\n",
      "  ax.set_yticklabels(labels)\n"
     ]
    },
    {
     "data": {
      "image/png": "[encoded data removed]",
      "text/plain": [
       "<Figure size 144x72 with 1 Axes>"
      ]
     },
     "metadata": {
      "needs_background": "light"
     },
     "output_type": "display_data"
    },
    {
     "name": "stdout",
     "output_type": "stream",
     "text": [
      "Comparison:0 to 1\n",
      "+-----+-------+-------+\n",
      "|     |   D=1 |   D=0 |\n",
      "+=====+=======+=======+\n",
      "| E=1 |    19 |    37 |\n",
      "+-----+-------+-------+\n",
      "| E=0 |    30 |    17 |\n",
      "+-----+-------+-------+ \n",
      "\n",
      "======================================================================\n",
      "                           Odds Ratio                                 \n",
      "======================================================================\n",
      "       OddsRatio  SD(OR)  OR_LCL  OR_UCL\n",
      "Ref:0      1.000     NaN     NaN     NaN\n",
      "1          0.291   0.415   0.129   0.656\n",
      "----------------------------------------------------------------------\n",
      "Missing E:    0\n",
      "Missing D:    0\n",
      "Missing E&D:  0\n",
      "======================================================================\n"
     ]
    }
   ],
   "source": [
    "ort2 = OddsRatio()\n",
    "ort2.fit(study2_df, exposure='labeled',outcome='choice')\n",
    "fig,ax = plt.subplots(figsize=(2,1))\n",
    "_ = ort2.plot()\n",
    "plt.show()\n",
    "ort2.summary()"
   ]
  }
 ],
 "metadata": {
  "kernelspec": {
   "display_name": "venv-ff",
   "language": "python",
   "name": "venv-ff"
  },
  "language_info": {
   "codemirror_mode": {
    "name": "ipython",
    "version": 3
   },
   "file_extension": ".py",
   "mimetype": "text/x-python",
   "name": "python",
   "nbconvert_exporter": "python",
   "pygments_lexer": "ipython3",
   "version": "3.7.1"
  }
 },
 "nbformat": 4,
 "nbformat_minor": 5
}
